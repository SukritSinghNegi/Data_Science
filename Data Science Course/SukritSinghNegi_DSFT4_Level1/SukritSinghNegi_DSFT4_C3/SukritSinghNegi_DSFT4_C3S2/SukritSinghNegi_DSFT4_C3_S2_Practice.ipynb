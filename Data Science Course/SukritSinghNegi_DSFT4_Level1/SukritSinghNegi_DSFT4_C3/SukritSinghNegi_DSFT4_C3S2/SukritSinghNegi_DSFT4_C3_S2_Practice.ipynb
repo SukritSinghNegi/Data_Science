{
 "cells": [
  {
   "cell_type": "code",
   "execution_count": null,
   "id": "81f4e897",
   "metadata": {},
   "outputs": [],
   "source": [
    "# Decision-making using Conditional Statement"
   ]
  },
  {
   "cell_type": "code",
   "execution_count": 1,
   "id": "021b39a7",
   "metadata": {},
   "outputs": [
    {
     "name": "stdout",
     "output_type": "stream",
     "text": [
      "enter the characterd\n",
      "Holiday\n"
     ]
    }
   ],
   "source": [
    "# Practice 1\n",
    "var = str(input('enter the character'))\n",
    "if var=='a' or  var=='A':\n",
    "    print('Python')\n",
    "elif var=='b' or var=='B':\n",
    "    print('MySQL')\n",
    "elif var=='c' or var=='C':\n",
    "    print('Excel')\n",
    "else :\n",
    "    print('Holiday')\n"
   ]
  },
  {
   "cell_type": "code",
   "execution_count": 4,
   "id": "04c7e78d",
   "metadata": {},
   "outputs": [
    {
     "name": "stdout",
     "output_type": "stream",
     "text": [
      "enter value12\n",
      "enter value15\n",
      "15 is greater then 12\n"
     ]
    }
   ],
   "source": [
    "# Practice 2\n",
    "a=int(input('enter value'))\n",
    "b=int(input('enter value'))\n",
    "if a > b :\n",
    "    print(a,'is greater then',b)\n",
    "elif a==b:\n",
    "    print(a,'is equal to',b)\n",
    "else :\n",
    "    print(b,'is greater then',a)"
   ]
  },
  {
   "cell_type": "code",
   "execution_count": 5,
   "id": "f6f09a03",
   "metadata": {},
   "outputs": [
    {
     "name": "stdout",
     "output_type": "stream",
     "text": [
      "enter the basic salary10\n",
      "Net Income 11.5\n"
     ]
    }
   ],
   "source": [
    "# Practice 3\n",
    "BS=int(input('enter the basic salary'))\n",
    "if BS>=0 and BS<=4000:\n",
    "    HRA=BS*0.1\n",
    "    DA=BS*0.05\n",
    "    TAX=BS*0\n",
    "    NI=BS+HRA+DA-TAX\n",
    "elif BS>=4001 and BS<=10000:\n",
    "    HRA=BS*0.2\n",
    "    DA=BS*0.1\n",
    "    TAX=BS*0.15\n",
    "    NI=BS+HRA+DA-TAX\n",
    "else:\n",
    "    HRA=BS*0.25\n",
    "    DA=BS*0.15\n",
    "    TAX=BS*0.2\n",
    "    NI=BS+HRA+DA-TAX\n",
    "        \n",
    "print('Net Income',NI)"
   ]
  },
  {
   "cell_type": "code",
   "execution_count": 4,
   "id": "a02ca92e",
   "metadata": {},
   "outputs": [
    {
     "name": "stdout",
     "output_type": "stream",
     "text": [
      "Enter a worddesign\n",
      "word exists\n"
     ]
    }
   ],
   "source": [
    "#Practice 4\n",
    "var='''Python is an interpreted high-level general-purpose programming language. \n",
    "       Its design philosophy emphasizes code readability with is use of significant indentation.\n",
    "       Its language constructs as well as its object-oriented approach aim to help programmers write clear,\n",
    "       logical code for small and large-scale projects.'''\n",
    "word=str(input('Enter a word'))\n",
    "if word in var:\n",
    "    print('word exists')\n",
    "else:\n",
    "    print('word do not exists')"
   ]
  },
  {
   "cell_type": "code",
   "execution_count": 5,
   "id": "b7e81ddd",
   "metadata": {},
   "outputs": [
    {
     "name": "stdout",
     "output_type": "stream",
     "text": [
      "Enter a characterS\n",
      "S is UPPER CASE\n"
     ]
    }
   ],
   "source": [
    "# Practice 6\n",
    "char=str(input('Enter a character'))\n",
    "if char == char.upper():\n",
    "    print(char,'is UPPER CASE')\n",
    "else:\n",
    "    print(char,'is LOWER CASE')"
   ]
  },
  {
   "cell_type": "code",
   "execution_count": 6,
   "id": "5864252f",
   "metadata": {},
   "outputs": [
    {
     "name": "stdout",
     "output_type": "stream",
     "text": [
      "Enter a character : f\n",
      "f  : is consonant\n"
     ]
    }
   ],
   "source": [
    "# Practice 7\n",
    "char=str(input('Enter a character : '))\n",
    "char1 = char.lower() \n",
    "if char1 == 'a' or char1 == 'e' or char1 == 'i' or char1 == 'o' or char1 == 'u':\n",
    "    print(char,' : is vowel')\n",
    "else:\n",
    "    print(char,' : is consonant')"
   ]
  },
  {
   "cell_type": "code",
   "execution_count": 7,
   "id": "70ca1453",
   "metadata": {},
   "outputs": [
    {
     "name": "stdout",
     "output_type": "stream",
     "text": [
      "Enter a year : 8548\n",
      "8548  is a Leap Year\n"
     ]
    }
   ],
   "source": [
    "# Practice 8\n",
    "year=int(input('Enter a year : '))\n",
    "\n",
    "if year%4==0:\n",
    "    print(year,' is a Leap Year')\n",
    "else:\n",
    "    print(year,' is not a Leap Year')"
   ]
  },
  {
   "cell_type": "code",
   "execution_count": 9,
   "id": "2524582f",
   "metadata": {},
   "outputs": [
    {
     "name": "stdout",
     "output_type": "stream",
     "text": [
      "Enter numbere 1-1212\n",
      "december have 31 days\n"
     ]
    }
   ],
   "source": [
    "# Practice 9\n",
    "month=int(input('Enter numbere 1-12'))\n",
    "if month==1:\n",
    "    print('january have 31 days')\n",
    "elif month==2:\n",
    "    print('february have 28 days')\n",
    "elif month==3:\n",
    "    print('march have 31 days')\n",
    "elif month==4:\n",
    "    print('april have 30 days')\n",
    "elif month==5:\n",
    "    print('may have 31 days')\n",
    "elif month==6:\n",
    "    print('june have 30 days')\n",
    "elif month==7:\n",
    "    print('july have 31 days')\n",
    "elif month==8:\n",
    "    print('august have 31 days')\n",
    "elif month==9:\n",
    "    print('september have 30 days')\n",
    "elif month==10:\n",
    "    print('october have 31 days')\n",
    "elif month==11:\n",
    "    print('november have 30 days')\n",
    "elif month==12:\n",
    "    print('december have 31 days')\n",
    "else:\n",
    "    print('not month')\n"
   ]
  },
  {
   "cell_type": "code",
   "execution_count": 6,
   "id": "c3ec8d56",
   "metadata": {},
   "outputs": [
    {
     "name": "stdout",
     "output_type": "stream",
     "text": [
      "m for male f for female f\n",
      "Enter age35\n",
      "Discount 30%\n"
     ]
    }
   ],
   "source": [
    "# practice 10\n",
    "gender=str(input('m for male f for female '))\n",
    "gen= gender.lower()\n",
    "\n",
    "if gen=='f':\n",
    "    age=int(input('Enter age'))\n",
    "    if age > 30: \n",
    "        print('Discount 30%')\n",
    "    elif age >=21 and age<=30:\n",
    "        print('Discount 20%')\n",
    "    elif age <=20:\n",
    "        print('Discount 10%')\n",
    "        \n",
    "else:\n",
    "    print('no discount')\n",
    "   \n"
   ]
  },
  {
   "cell_type": "code",
   "execution_count": null,
   "id": "b54a1988",
   "metadata": {},
   "outputs": [],
   "source": []
  }
 ],
 "metadata": {
  "kernelspec": {
   "display_name": "Python 3 (ipykernel)",
   "language": "python",
   "name": "python3"
  },
  "language_info": {
   "codemirror_mode": {
    "name": "ipython",
    "version": 3
   },
   "file_extension": ".py",
   "mimetype": "text/x-python",
   "name": "python",
   "nbconvert_exporter": "python",
   "pygments_lexer": "ipython3",
   "version": "3.9.7"
  }
 },
 "nbformat": 4,
 "nbformat_minor": 5
}
