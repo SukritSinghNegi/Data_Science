{
 "cells": [
  {
   "cell_type": "code",
   "execution_count": 1,
   "id": "2c85f790",
   "metadata": {},
   "outputs": [
    {
     "name": "stdout",
     "output_type": "stream",
     "text": [
      "FALSE\n"
     ]
    }
   ],
   "source": [
    "# Practice 1\n",
    "mynames = [\"Joe\",\"Zoe\",\"Brad\",\"world\",\"Angelina\",\"world\",\"zuki\",\"Tom\",\"Paris\",\"world\",\"magic\"]\n",
    "if \"USA\" in mynames:\n",
    "    print('TRUE')\n",
    "else:\n",
    "    print('FALSE')"
   ]
  },
  {
   "cell_type": "code",
   "execution_count": 2,
   "id": "9b40242c",
   "metadata": {},
   "outputs": [
    {
     "name": "stdout",
     "output_type": "stream",
     "text": [
      "3\n"
     ]
    }
   ],
   "source": [
    "# Practice 2\n",
    "mynames = [\"Joe\",\"Zoe\",\"world\",\"Brad\",\"Angelina\",\"world\",\"zuki\",\"Tom\",\"Paris\",\"world\",\"magic\"]\n",
    "count=0\n",
    "for myname in mynames:\n",
    "    if myname == \"world\":\n",
    "        count=count+1\n",
    "\n",
    "print(count)"
   ]
  },
  {
   "cell_type": "code",
   "execution_count": 3,
   "id": "87979152",
   "metadata": {},
   "outputs": [
    {
     "name": "stdout",
     "output_type": "stream",
     "text": [
      "3\n"
     ]
    }
   ],
   "source": [
    "# Practice 2\n",
    "mynames = [\"Joe\",\"Zoe\",\"world\",\"Brad\",\"Angelina\",\"world\",\"zuki\",\"Tom\",\"Paris\",\"world\",\"magic\"]\n",
    "count=mynames.count(\"world\")\n",
    "print(count)"
   ]
  },
  {
   "cell_type": "code",
   "execution_count": 4,
   "id": "f4b84653",
   "metadata": {},
   "outputs": [
    {
     "name": "stdout",
     "output_type": "stream",
     "text": [
      "number of even 14\n",
      "number of odd 15\n"
     ]
    }
   ],
   "source": [
    "# Practice 3\n",
    "dataset = list(range(1,30))\n",
    "even=0\n",
    "odd=0\n",
    "for data in dataset:\n",
    "    if data%2==0:\n",
    "        even=even+1\n",
    "    else:\n",
    "        odd=odd+1\n",
    "        \n",
    "print('number of even',even)\n",
    "print('number of odd',odd)"
   ]
  },
  {
   "cell_type": "code",
   "execution_count": 5,
   "id": "53be8b8f",
   "metadata": {},
   "outputs": [
    {
     "name": "stdout",
     "output_type": "stream",
     "text": [
      "[2, 4, 6, 8, 10]\n"
     ]
    }
   ],
   "source": [
    "#Practice 4\n",
    "dataset = list(range(1,30))\n",
    "even=[]\n",
    "count=0\n",
    "for data in dataset:\n",
    "    if data%2==0 and count<5:\n",
    "        even.append(data)\n",
    "        count=count+1\n",
    "        \n",
    "print(even)"
   ]
  },
  {
   "cell_type": "code",
   "execution_count": 6,
   "id": "6071c010",
   "metadata": {},
   "outputs": [
    {
     "data": {
      "text/plain": [
       "[29, 27]"
      ]
     },
     "execution_count": 6,
     "metadata": {},
     "output_type": "execute_result"
    }
   ],
   "source": [
    "# Practice 5\n",
    "dataset[-1:-4:-2]"
   ]
  },
  {
   "cell_type": "code",
   "execution_count": 7,
   "id": "35b351ae",
   "metadata": {},
   "outputs": [
    {
     "name": "stdout",
     "output_type": "stream",
     "text": [
      "Enter a value for x10\n",
      "Enter a value for y20\n",
      "Enter a value for x30\n",
      "Enter a value for y40\n",
      "Enter a value for x50\n",
      "Enter a value for y60\n",
      "Enter a value for x70\n",
      "Enter a value for y80\n",
      "Enter a value for x90\n",
      "Enter a value for y100\n",
      "Enter the value for x in first position66\n",
      "['66', '10', '30', '50', '70', '90', '20', '40', '60', '80', '100']\n",
      "['20', '40', '60', '80', '100']\n"
     ]
    }
   ],
   "source": [
    "#Practice 6\n",
    "x=[]\n",
    "y=[]\n",
    "n=0\n",
    "for n in range(0,5):\n",
    "    x.append(input('Enter a value for x'))\n",
    "    y.append(input('Enter a value for y'))\n",
    "\n",
    "x.extend(y)\n",
    "add=input('Enter the value for x in first position')\n",
    "x.insert(0,add)\n",
    "print(x)\n",
    "print(y)"
   ]
  },
  {
   "cell_type": "code",
   "execution_count": 10,
   "id": "82d3beeb",
   "metadata": {},
   "outputs": [
    {
     "name": "stdout",
     "output_type": "stream",
     "text": [
      "[1, 4, 9, 16, 25, 36, 49, 64, 81, 100, 900, 961, 1024, 1089, 1156, 1225, 1296, 1369, 1444, 1521]\n"
     ]
    }
   ],
   "source": [
    "# Practice 7\n",
    "dataset=[]\n",
    "for data in range(1,41):\n",
    "    dataset.append(data**2)\n",
    "l=len(dataset)-1\n",
    "new=dataset[0:10]+dataset[l-10:l]\n",
    "print(new)"
   ]
  },
  {
   "cell_type": "code",
   "execution_count": 11,
   "id": "d571ca4b",
   "metadata": {},
   "outputs": [
    {
     "name": "stdout",
     "output_type": "stream",
     "text": [
      "Enter the number5\n",
      "5  *  1  =  5\n",
      "5  *  2  =  10\n",
      "5  *  3  =  15\n",
      "5  *  4  =  20\n",
      "5  *  5  =  25\n",
      "5  *  6  =  30\n",
      "5  *  7  =  35\n",
      "5  *  8  =  40\n",
      "5  *  9  =  45\n",
      "5  *  10  =  50\n"
     ]
    }
   ],
   "source": [
    "# Practice 8\n",
    "n=int(input('Enter the number'))\n",
    "i=1\n",
    "for i in range(1,11):\n",
    "    print(n,' * ',i,' = ',n*i)"
   ]
  }
 ],
 "metadata": {
  "kernelspec": {
   "display_name": "Python 3 (ipykernel)",
   "language": "python",
   "name": "python3"
  },
  "language_info": {
   "codemirror_mode": {
    "name": "ipython",
    "version": 3
   },
   "file_extension": ".py",
   "mimetype": "text/x-python",
   "name": "python",
   "nbconvert_exporter": "python",
   "pygments_lexer": "ipython3",
   "version": "3.9.7"
  }
 },
 "nbformat": 4,
 "nbformat_minor": 5
}
