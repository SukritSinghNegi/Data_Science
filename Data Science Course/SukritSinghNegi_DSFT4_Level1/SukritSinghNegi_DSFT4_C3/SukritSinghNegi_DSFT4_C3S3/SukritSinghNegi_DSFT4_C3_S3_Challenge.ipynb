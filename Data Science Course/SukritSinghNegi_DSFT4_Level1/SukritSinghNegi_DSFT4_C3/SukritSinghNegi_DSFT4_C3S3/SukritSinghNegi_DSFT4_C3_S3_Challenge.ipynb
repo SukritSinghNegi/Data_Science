{
 "cells": [
  {
   "cell_type": "code",
   "execution_count": null,
   "id": "8e5962be",
   "metadata": {},
   "outputs": [],
   "source": [
    "# Challenge Question 1\n",
    "data=[]\n",
    "d=[]\n",
    "i=0\n",
    "for i in range(10):\n",
    "    data.append(input('Enter the word: '))\n",
    "for x in data:    \n",
    "    d.append(x[::-1])\n",
    "print(d)"
   ]
  },
  {
   "cell_type": "code",
   "execution_count": null,
   "id": "bd5c5277",
   "metadata": {},
   "outputs": [],
   "source": [
    "# Challenge Question 2\n",
    "data1=[]\n",
    "i=0\n",
    "for i in range(10):\n",
    "    data1.append(input('Enter the word: '))\n",
    "data1.reverse()\n",
    "print(data1)"
   ]
  },
  {
   "cell_type": "code",
   "execution_count": 32,
   "id": "3ee14342",
   "metadata": {},
   "outputs": [
    {
     "name": "stdout",
     "output_type": "stream",
     "text": [
      "Enter word: one\n",
      "Enter word: two\n",
      "Enter word: three\n",
      "Enter word: four\n",
      "Enter word: five\n",
      "Enter word: six\n",
      "Enter word: one\n",
      "Enter word: two\n",
      "Enter word: three\n",
      "Enter word: four\n",
      "['one', 'two', 'three', 'four', 'five', 'six', 'one', 'two', 'three', 'four']\n"
     ]
    }
   ],
   "source": [
    "# Challenge Question 3\n",
    "alist=[]\n",
    "for i in range(10):\n",
    "    alist.append(input('Enter word: '))\n",
    "print(alist)"
   ]
  },
  {
   "cell_type": "code",
   "execution_count": 36,
   "id": "1ccecf65",
   "metadata": {},
   "outputs": [
    {
     "name": "stdout",
     "output_type": "stream",
     "text": [
      "['one', 'two', 'three', 'four', 'five', 'six']\n"
     ]
    }
   ],
   "source": [
    "# Challenge Question 4\n",
    "blist=[]\n",
    "for a in alist:\n",
    "    if a in blist:\n",
    "        continue\n",
    "    else:\n",
    "        blist.append(a)\n",
    "print(blist)"
   ]
  },
  {
   "cell_type": "code",
   "execution_count": 37,
   "id": "80bd0dab",
   "metadata": {},
   "outputs": [
    {
     "name": "stdout",
     "output_type": "stream",
     "text": [
      "['five', 'four', 'one', 'six', 'three', 'two']\n"
     ]
    }
   ],
   "source": [
    "# Challenge Question 5\n",
    "blist.sort()\n",
    "print(blist)\n"
   ]
  },
  {
   "cell_type": "code",
   "execution_count": 41,
   "id": "e9220a91",
   "metadata": {},
   "outputs": [
    {
     "name": "stdout",
     "output_type": "stream",
     "text": [
      "[]\n"
     ]
    }
   ],
   "source": [
    "# challenge Question 6\n",
    "for b in blist:\n",
    "    blist.pop()\n",
    "print(blist)"
   ]
  },
  {
   "cell_type": "code",
   "execution_count": 42,
   "id": "f94de8ea",
   "metadata": {},
   "outputs": [
    {
     "name": "stdout",
     "output_type": "stream",
     "text": [
      "1505\n",
      "1540\n",
      "1575\n",
      "1610\n",
      "1645\n",
      "1680\n",
      "1715\n",
      "1750\n",
      "1785\n",
      "1820\n",
      "1855\n",
      "1890\n",
      "1925\n",
      "1960\n",
      "1995\n",
      "2030\n",
      "2065\n",
      "2100\n",
      "2135\n",
      "2170\n",
      "2205\n",
      "2240\n",
      "2275\n",
      "2310\n",
      "2345\n",
      "2380\n",
      "2415\n",
      "2450\n",
      "2485\n",
      "2520\n",
      "2555\n",
      "2590\n",
      "2625\n",
      "2660\n",
      "2695\n"
     ]
    }
   ],
   "source": [
    "# Challenge Question 7\n",
    "\n",
    "for i in range(1500,2701):\n",
    "    if i%7==0 and i%5==0:\n",
    "        print(i)\n"
   ]
  },
  {
   "cell_type": "code",
   "execution_count": 56,
   "id": "78c066d4",
   "metadata": {},
   "outputs": [
    {
     "name": "stdout",
     "output_type": "stream",
     "text": [
      "Enter the value: 2\n",
      "1\n",
      "3\n",
      "5\n",
      "7\n",
      "9\n",
      "11\n",
      "13\n",
      "15\n",
      "17\n",
      "19\n",
      "21\n",
      "23\n",
      "25\n",
      "27\n",
      "29\n"
     ]
    }
   ],
   "source": [
    "# Challenge Question 8\n",
    "n=int(input('Enter the value: '))\n",
    "for i in range(1,31):\n",
    "    if i%n==0:\n",
    "        continue\n",
    "    else:\n",
    "        print(i)"
   ]
  },
  {
   "cell_type": "code",
   "execution_count": 58,
   "id": "3eb1981b",
   "metadata": {},
   "outputs": [
    {
     "name": "stdout",
     "output_type": "stream",
     "text": [
      "[[20, 20, 20], [20, 20, 20], [20, 20, 20]]\n"
     ]
    }
   ],
   "source": [
    "# Challege Question 9\n",
    "firstlist=[[1,2,3],[4,5,6],[7,8,9]]\n",
    "secondlist=[[19,18,17],[16,15,14],[13,12,11]]\n",
    "thirdlist=[]\n",
    "for i in range(3):\n",
    "    x=[]\n",
    "    for i in range(3):\n",
    "        x.append(firstlist[i][j]+secondlist[i][j])\n",
    "    thirdlist.append(x)\n",
    "print(thirdlist)"
   ]
  },
  {
   "cell_type": "code",
   "execution_count": 55,
   "id": "2b4b8970",
   "metadata": {},
   "outputs": [
    {
     "name": "stdout",
     "output_type": "stream",
     "text": [
      "Enter the number1\n",
      "Enter the number2\n",
      "Enter the number3\n",
      "Enter the number4\n",
      "Enter the number5\n",
      "Enter the number6\n",
      "Enter the number7\n",
      "Enter the number8\n",
      "Enter the number9\n",
      "Enter the number11\n",
      "Enter the number12\n",
      "Enter the number13\n",
      "Enter the number14\n",
      "Enter the number15\n",
      "Enter the number16\n",
      "Enter the number17\n",
      "Enter the number18\n",
      "Enter the number19\n",
      "firstlist [[1, 2, 3], [4, 5, 6], [7, 8, 9]]\n",
      "secondlist [[19, 18, 17], [16, 15, 14], [13, 12, 11]]\n"
     ]
    }
   ],
   "source": [
    "# Challenge Question 10\n",
    "a=[]\n",
    "b=[]\n",
    "c=[]\n",
    "d=[]\n",
    "e=[]\n",
    "f=[]\n",
    "firstlist=[]\n",
    "secondlist=[]\n",
    "for i in range(3):\n",
    "    a.append(int(input('Enter the number')))\n",
    "    \n",
    "for i in range(3):\n",
    "    b.append(int(input('Enter the number')))\n",
    "    \n",
    "for i in range(3):\n",
    "    c.append(int(input('Enter the number')))\n",
    "\n",
    "for i in range(3):\n",
    "    d.append(int(input('Enter the number')))\n",
    "\n",
    "for i in range(3):\n",
    "    e.append(int(input('Enter the number')))\n",
    "\n",
    "for i in range(3):\n",
    "    f.append(int(input('Enter the number')))\n",
    "\n",
    "firstlist.append(a)\n",
    "firstlist.append(b)\n",
    "firstlist.append(c)\n",
    "d.reverse()\n",
    "e.reverse()\n",
    "f.reverse()\n",
    "secondlist.append(d)\n",
    "secondlist.append(e)\n",
    "secondlist.append(f)\n",
    "\n",
    "print('firstlist',firstlist)\n",
    "secondlist.reverse()\n",
    "print('secondlist',secondlist)\n",
    "    "
   ]
  }
 ],
 "metadata": {
  "kernelspec": {
   "display_name": "Python 3 (ipykernel)",
   "language": "python",
   "name": "python3"
  },
  "language_info": {
   "codemirror_mode": {
    "name": "ipython",
    "version": 3
   },
   "file_extension": ".py",
   "mimetype": "text/x-python",
   "name": "python",
   "nbconvert_exporter": "python",
   "pygments_lexer": "ipython3",
   "version": "3.9.7"
  }
 },
 "nbformat": 4,
 "nbformat_minor": 5
}
