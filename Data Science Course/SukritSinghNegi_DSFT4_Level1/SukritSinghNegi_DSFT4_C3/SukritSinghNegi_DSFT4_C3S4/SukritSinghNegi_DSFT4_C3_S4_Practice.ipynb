{
 "cells": [
  {
   "cell_type": "code",
   "execution_count": 1,
   "id": "4b9b3fe8",
   "metadata": {},
   "outputs": [
    {
     "name": "stdout",
     "output_type": "stream",
     "text": [
      "Enter the number: 5\n",
      "120\n"
     ]
    }
   ],
   "source": [
    "# Practice 1\n",
    "n=int(input('Enter the number: '))\n",
    "fact=1\n",
    "while(n>0):\n",
    "    fact=fact*n\n",
    "    n=n-1\n",
    "    \n",
    "print(fact)"
   ]
  },
  {
   "cell_type": "code",
   "execution_count": 20,
   "id": "8b48e768",
   "metadata": {},
   "outputs": [
    {
     "name": "stdout",
     "output_type": "stream",
     "text": [
      "1 2 3 5 7 9 11 13 15 17 19 "
     ]
    }
   ],
   "source": [
    "# Practice 2\n",
    "i=1\n",
    "while(i<=20):\n",
    "    c=0\n",
    "    j=2\n",
    "    while(j<=i//2):\n",
    "        if(i%j==0):\n",
    "            c=c+1\n",
    "        else:\n",
    "            break\n",
    "        j=j+1\n",
    "    if c==0:\n",
    "        print(i,end=' ')\n",
    "    i=i+1\n",
    "\n"
   ]
  },
  {
   "cell_type": "code",
   "execution_count": 19,
   "id": "be75ed10",
   "metadata": {},
   "outputs": [
    {
     "name": "stdout",
     "output_type": "stream",
     "text": [
      "Enter 5 digit no. : 612\n",
      "Sum of the number enter of  612  :  9\n"
     ]
    }
   ],
   "source": [
    "# Practice 3\n",
    "a=int(input('Enter 5 digit no. : '))\n",
    "sums=0\n",
    "rem=0\n",
    "num=a\n",
    "while a > 0:\n",
    "    rem=a%10\n",
    "    sums=sums+rem\n",
    "    a=a//10\n",
    "    \n",
    "print('Sum of the number enter of ',num,' : ',sums)"
   ]
  },
  {
   "cell_type": "code",
   "execution_count": 11,
   "id": "7cf78483",
   "metadata": {},
   "outputs": [
    {
     "name": "stdout",
     "output_type": "stream",
     "text": [
      "1 2 3 5 8 13 21 "
     ]
    }
   ],
   "source": [
    "# Practice 4\n",
    "x=0\n",
    "y=1\n",
    "i=1\n",
    "while(i<=7):\n",
    "    z=x+y\n",
    "    print(z,end=\" \")\n",
    "    x=y\n",
    "    y=z\n",
    "    i=i+1"
   ]
  },
  {
   "cell_type": "code",
   "execution_count": 21,
   "id": "818ae7e8",
   "metadata": {},
   "outputs": [
    {
     "name": "stdout",
     "output_type": "stream",
     "text": [
      "before t1 ('1', 2, 3, 4) before t2 ('1', 2, 3, 4)\n",
      "before id t1 2417574017360 before id t2 2417574017680\n",
      "after t1 ('1', 2, 3, 4, '1', 2, 3, 4) after t2 ('1', 2, 3, 4)\n",
      "after id t1 2417544205808 after id t2 2417574017680\n"
     ]
    }
   ],
   "source": [
    "# Practice 5\n",
    "\n",
    "t1=('1',2,3,4)\n",
    "t2=('1',2,3,4)\n",
    "print('before t1',t1,'before t2',t2)\n",
    "print('before id t1',id(t1),'before id t2',id(t2))\n",
    "t1=t1+t2\n",
    "print('after t1',t1,'after t2',t2)\n",
    "print('after id t1',id(t1),'after id t2',id(t2))\n",
    "# After concatenating the values of the tuple t1 is updated hence new id is allocated"
   ]
  },
  {
   "cell_type": "code",
   "execution_count": 23,
   "id": "fe483810",
   "metadata": {},
   "outputs": [
    {
     "name": "stdout",
     "output_type": "stream",
     "text": [
      "m =  {50, 20, 40, 10, 30} n =  {50, 70, 40, 60, 30}\n",
      "m =  {70, 40, 10, 50, 20, 60, 30} n =  {50, 70, 40, 60, 30}\n"
     ]
    }
   ],
   "source": [
    "#Practice 6\n",
    "m={10,20,30,40,50}\n",
    "n={30,40,50,60,70}\n",
    "print('m = ',m,'n = ',n)\n",
    "m.update(n)\n",
    "print('m = ',m,'n = ',n)\n",
    "# after updating m set with n the duplicates are removed "
   ]
  },
  {
   "cell_type": "code",
   "execution_count": 29,
   "id": "b2169e51",
   "metadata": {},
   "outputs": [
    {
     "name": "stdout",
     "output_type": "stream",
     "text": [
      "2\n",
      "4\n"
     ]
    }
   ],
   "source": [
    "# Practice 7\n",
    "port1 = {'FTP':1,'SSH':2,'telnet':3,'http':4}\n",
    "x=list(port1.values())\n",
    "i=0\n",
    "while i<len(x):\n",
    "    if x[i]%2==0:\n",
    "        print(x[i])\n",
    "    i=i+1\n"
   ]
  },
  {
   "cell_type": "code",
   "execution_count": 30,
   "id": "48019715",
   "metadata": {},
   "outputs": [
    {
     "name": "stdout",
     "output_type": "stream",
     "text": [
      "{1: 1, 2: 4, 3: 9, 4: 16, 5: 25, 6: 36, 7: 49, 8: 64, 9: 81, 10: 100, 11: 121, 12: 144, 13: 169, 14: 196, 15: 225}\n",
      "{1: 1, 2: 4, 3: 9, 4: 16, 5: 25, 6: 36, 7: 49, 8: 64, 9: 81, 10: 100, 11: 121, 12: 144, 13: 169, 14: 196, 15: 225, 100: 10000}\n"
     ]
    }
   ],
   "source": [
    "# Practice 8\n",
    "dic={}\n",
    "n=1\n",
    "while n<= 15:\n",
    "    dic[n]=n**2\n",
    "    n=n+1\n",
    "print(dic)\n",
    "dic.update({100:10000})\n",
    "print(dic)"
   ]
  },
  {
   "cell_type": "code",
   "execution_count": 32,
   "id": "e0e12cdb",
   "metadata": {},
   "outputs": [
    {
     "name": "stdout",
     "output_type": "stream",
     "text": [
      "{21: 'FTP', 22: 'SSH', 23: 'telnet', 80: 'http'}\n",
      "{'FTP': 21, 'SSH': 22, 'telnet': 23, 'http': 80}\n"
     ]
    }
   ],
   "source": [
    "# Practice 9\n",
    "port1={21:'FTP',22:'SSH',23:'telnet',80:'http'}\n",
    "port2={}\n",
    "values=list(port1.keys())\n",
    "keys=list(port1.values())\n",
    "n=0\n",
    "while n<len(port1):\n",
    "    port2.update({keys[n]:values[n]})\n",
    "    n=n+1\n",
    "print(port1)\n",
    "print(port2)\n"
   ]
  },
  {
   "cell_type": "code",
   "execution_count": 27,
   "id": "4f1230e4",
   "metadata": {},
   "outputs": [
    {
     "name": "stdout",
     "output_type": "stream",
     "text": [
      "{'Emp1': {'name': 'Sara', 'Dept': 'IT', 'Designastion': 'Team Lead'}, 'Emp2': {'name': 'Anna', 'Dept': 'IT', 'Designastion': 'Senior Software Engineer'}, 'Emp3': {'name': 'Andy', 'Dept': 'BioTech', 'Designastion': 'Senior Software Engineer'}}\n"
     ]
    }
   ],
   "source": [
    "# Practice 10\n",
    "Employee ={'Emp1':{'name':'Sara','Dept':'IT','Designastion':'Team Lead'},\n",
    "           'Emp2':{'name':'Anna','Dept':'IT','Designastion':'Senior Software Engineer'},\n",
    "           'Emp3':{'name':'Andy','Dept':'BioTech','Designastion':'Senior Software Engineer'},\n",
    "           'Emp4':{'name':'Andy','Dept':'BioTech','Designastion':'Senior Software Engineer'}\n",
    "          }\n",
    "del(Employee['Emp4'])\n",
    "print(Employee)"
   ]
  },
  {
   "cell_type": "code",
   "execution_count": null,
   "id": "dacbc707",
   "metadata": {},
   "outputs": [],
   "source": []
  }
 ],
 "metadata": {
  "kernelspec": {
   "display_name": "Python 3 (ipykernel)",
   "language": "python",
   "name": "python3"
  },
  "language_info": {
   "codemirror_mode": {
    "name": "ipython",
    "version": 3
   },
   "file_extension": ".py",
   "mimetype": "text/x-python",
   "name": "python",
   "nbconvert_exporter": "python",
   "pygments_lexer": "ipython3",
   "version": "3.9.7"
  }
 },
 "nbformat": 4,
 "nbformat_minor": 5
}
