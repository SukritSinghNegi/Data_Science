{
 "cells": [
  {
   "cell_type": "code",
   "execution_count": 24,
   "id": "2e36141b",
   "metadata": {},
   "outputs": [],
   "source": [
    "# Practice 1\n",
    "def palindrome(str):\n",
    "    l=len(str)-1\n",
    "    h=(l//2)+1\n",
    "    for i in range(0,h):\n",
    "        if str[i] != str[l-i]:\n",
    "            return 'Not Palindrome'\n",
    "        return 'Palindrome'"
   ]
  },
  {
   "cell_type": "code",
   "execution_count": 25,
   "id": "42013254",
   "metadata": {},
   "outputs": [
    {
     "name": "stdout",
     "output_type": "stream",
     "text": [
      "Enter a string abcd\n",
      "Not Palindrome\n"
     ]
    }
   ],
   "source": [
    "s=str(input('Enter a string '))\n",
    "print(palindrome(s))"
   ]
  },
  {
   "cell_type": "code",
   "execution_count": 33,
   "id": "911a796e",
   "metadata": {},
   "outputs": [],
   "source": [
    "# Practice 2\n",
    "def order(str):\n",
    "    word1=str.split(' ')\n",
    "    word=[]\n",
    "    for x in word1:\n",
    "        y=x.lower()\n",
    "        word.append(y)\n",
    "    word.sort()\n",
    "    return(word)"
   ]
  },
  {
   "cell_type": "code",
   "execution_count": 35,
   "id": "519fe3d2",
   "metadata": {},
   "outputs": [
    {
     "name": "stdout",
     "output_type": "stream",
     "text": [
      "Enter the sentence :my name Is Sukrit singh negi\n",
      "['is', 'my', 'name', 'negi', 'singh', 'sukrit']\n"
     ]
    }
   ],
   "source": [
    "s=str(input('Enter the sentence :'))\n",
    "print(order(s))"
   ]
  },
  {
   "cell_type": "code",
   "execution_count": 37,
   "id": "048d423f",
   "metadata": {},
   "outputs": [],
   "source": [
    "# Practice 3\n",
    "def convert(a):\n",
    "    s=''\n",
    "    for x in a:\n",
    "        s=s+x\n",
    "    return s"
   ]
  },
  {
   "cell_type": "code",
   "execution_count": 38,
   "id": "b6fba1e1",
   "metadata": {},
   "outputs": [
    {
     "name": "stdout",
     "output_type": "stream",
     "text": [
      "Hello World\n"
     ]
    }
   ],
   "source": [
    "List=['H','e','l','l','o',' ','W','o','r','l','d']\n",
    "print(convert(List))"
   ]
  },
  {
   "cell_type": "code",
   "execution_count": 39,
   "id": "387eb270",
   "metadata": {},
   "outputs": [],
   "source": [
    "# Practice 4\n",
    "def max_min(n):\n",
    "    print('Maximun in number',max(n))\n",
    "    print('Minimum in number',min(n))"
   ]
  },
  {
   "cell_type": "code",
   "execution_count": 40,
   "id": "43c47bfd",
   "metadata": {},
   "outputs": [
    {
     "name": "stdout",
     "output_type": "stream",
     "text": [
      "Enter the numbers: 1\n",
      "Enter the numbers: 2\n",
      "Enter the numbers: 3\n",
      "Enter the numbers: 4\n",
      "Enter the numbers: 5\n",
      "Maximun in number 5\n",
      "Minimum in number 1\n"
     ]
    }
   ],
   "source": [
    "number=[]\n",
    "for x in range(5):\n",
    "    number.append(int(input('Enter the numbers: ')))\n",
    "    \n",
    "max_min(number)"
   ]
  },
  {
   "cell_type": "code",
   "execution_count": 41,
   "id": "569eccf4",
   "metadata": {},
   "outputs": [],
   "source": [
    "# Practice 5\n",
    "def maxv_minv(d):\n",
    "    l=list(d.values())\n",
    "    print(max(l))\n",
    "    print(min(l))\n"
   ]
  },
  {
   "cell_type": "code",
   "execution_count": 43,
   "id": "0eedee4f",
   "metadata": {},
   "outputs": [
    {
     "name": "stdout",
     "output_type": "stream",
     "text": [
      "49.89\n",
      "29\n"
     ]
    }
   ],
   "source": [
    "dic={'item1':45.50,'item2':35,'item3':41.30,'iem4':29,'item5':49.89}\n",
    "maxv_minv(dic)"
   ]
  },
  {
   "cell_type": "code",
   "execution_count": 49,
   "id": "f2c02aeb",
   "metadata": {},
   "outputs": [],
   "source": [
    "# Practice 6\n",
    "def fun():\n",
    "    name=str(input('Enter the name: '))\n",
    "    age=int(input('Enter the age: ' ))\n",
    "    gender=str(input('Enter the gender: '))\n",
    "    return name,age,gender\n",
    "\n",
    "\n",
    "def profile():\n",
    "    L=fun()\n",
    "    print('name',L[0])\n",
    "    print('age',L[1])\n",
    "    print('gender',L[2])\n"
   ]
  },
  {
   "cell_type": "code",
   "execution_count": 50,
   "id": "c9ab1137",
   "metadata": {},
   "outputs": [
    {
     "name": "stdout",
     "output_type": "stream",
     "text": [
      "Enter the name: Sukrit\n",
      "Enter the age: 25\n",
      "Enter the gender: M\n",
      "name Sukrit\n",
      "age 25\n",
      "gender M\n"
     ]
    }
   ],
   "source": [
    "profile()"
   ]
  },
  {
   "cell_type": "code",
   "execution_count": 57,
   "id": "a787fa7d",
   "metadata": {},
   "outputs": [],
   "source": [
    "# Practice 7\n",
    "def outer(x):\n",
    "    def inner(y):\n",
    "        a=x**2*y\n",
    "        return a\n",
    "    return inner\n"
   ]
  },
  {
   "cell_type": "code",
   "execution_count": 59,
   "id": "3c5a808b",
   "metadata": {},
   "outputs": [
    {
     "name": "stdout",
     "output_type": "stream",
     "text": [
      "Enter the value: 2\n",
      "Enter the value: 5\n",
      "20\n"
     ]
    }
   ],
   "source": [
    "x=int(input('Enter the value: '))\n",
    "y=int(input('Enter the value: '))\n",
    "b=outer(x)\n",
    "print(b(y))"
   ]
  },
  {
   "cell_type": "code",
   "execution_count": 60,
   "id": "58da4417",
   "metadata": {},
   "outputs": [],
   "source": [
    "# Practice 8\n",
    "def sort(c):\n",
    "    c.sort(key=lambda x:x[1])\n",
    "    print(c)"
   ]
  },
  {
   "cell_type": "code",
   "execution_count": 61,
   "id": "dd2e3818",
   "metadata": {},
   "outputs": [
    {
     "name": "stdout",
     "output_type": "stream",
     "text": [
      "[('green', 1), ('blue', 2), ('yellow', 3), ('black', 4)]\n"
     ]
    }
   ],
   "source": [
    "color=[('black',4),('green',1),('blue',2),('yellow',3)]\n",
    "sort(color)"
   ]
  },
  {
   "cell_type": "code",
   "execution_count": 56,
   "id": "7b3f072b",
   "metadata": {},
   "outputs": [
    {
     "name": "stdout",
     "output_type": "stream",
     "text": [
      "Intersection ['Mandy']\n"
     ]
    }
   ],
   "source": [
    "# Practice 9\n",
    "a=['Andy','Mandy','Sandy']\n",
    "b=['Handy','Brandy','Mandy']\n",
    "c=list(filter(lambda d:d in a,b))\n",
    "print('Intersection',c)"
   ]
  },
  {
   "cell_type": "code",
   "execution_count": 52,
   "id": "c4f112f9",
   "metadata": {},
   "outputs": [
    {
     "name": "stdout",
     "output_type": "stream",
     "text": [
      "Addition:  [29, 29, 29]\n"
     ]
    }
   ],
   "source": [
    "# Practice 10\n",
    "c=[12,13,14]\n",
    "d=[17,16,15]\n",
    "e=map(lambda a,b : a+b,c,d)\n",
    "print('Addition: ',list(e))"
   ]
  }
 ],
 "metadata": {
  "kernelspec": {
   "display_name": "Python 3 (ipykernel)",
   "language": "python",
   "name": "python3"
  },
  "language_info": {
   "codemirror_mode": {
    "name": "ipython",
    "version": 3
   },
   "file_extension": ".py",
   "mimetype": "text/x-python",
   "name": "python",
   "nbconvert_exporter": "python",
   "pygments_lexer": "ipython3",
   "version": "3.9.7"
  }
 },
 "nbformat": 4,
 "nbformat_minor": 5
}
