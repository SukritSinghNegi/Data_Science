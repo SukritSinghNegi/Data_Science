{
 "cells": [
  {
   "cell_type": "markdown",
   "id": "5807862b",
   "metadata": {},
   "source": [
    "# Visualizing Data Using Matplotlib"
   ]
  },
  {
   "cell_type": "code",
   "execution_count": 1,
   "id": "42fa07ba",
   "metadata": {},
   "outputs": [],
   "source": [
    "import numpy as np\n",
    "import pandas as pd\n",
    "import matplotlib.pyplot as plt"
   ]
  },
  {
   "cell_type": "code",
   "execution_count": 2,
   "id": "fc5f20cb",
   "metadata": {},
   "outputs": [],
   "source": [
    "df=pd.read_excel('Employee.xlsx')"
   ]
  },
  {
   "cell_type": "code",
   "execution_count": 3,
   "id": "3f912db3",
   "metadata": {},
   "outputs": [
    {
     "data": {
      "text/html": [
       "<div>\n",
       "<style scoped>\n",
       "    .dataframe tbody tr th:only-of-type {\n",
       "        vertical-align: middle;\n",
       "    }\n",
       "\n",
       "    .dataframe tbody tr th {\n",
       "        vertical-align: top;\n",
       "    }\n",
       "\n",
       "    .dataframe thead th {\n",
       "        text-align: right;\n",
       "    }\n",
       "</style>\n",
       "<table border=\"1\" class=\"dataframe\">\n",
       "  <thead>\n",
       "    <tr style=\"text-align: right;\">\n",
       "      <th></th>\n",
       "      <th>Employee_Code</th>\n",
       "      <th>Gender</th>\n",
       "      <th>Department</th>\n",
       "      <th>Annual Salary ($)</th>\n",
       "      <th>Age</th>\n",
       "      <th>Work_Experience</th>\n",
       "    </tr>\n",
       "  </thead>\n",
       "  <tbody>\n",
       "    <tr>\n",
       "      <th>0</th>\n",
       "      <td>1010</td>\n",
       "      <td>Male</td>\n",
       "      <td>IT</td>\n",
       "      <td>27000</td>\n",
       "      <td>22</td>\n",
       "      <td>0</td>\n",
       "    </tr>\n",
       "    <tr>\n",
       "      <th>1</th>\n",
       "      <td>1011</td>\n",
       "      <td>Female</td>\n",
       "      <td>IT</td>\n",
       "      <td>48000</td>\n",
       "      <td>27</td>\n",
       "      <td>4</td>\n",
       "    </tr>\n",
       "    <tr>\n",
       "      <th>2</th>\n",
       "      <td>1012</td>\n",
       "      <td>Male</td>\n",
       "      <td>Sales</td>\n",
       "      <td>75000</td>\n",
       "      <td>31</td>\n",
       "      <td>7</td>\n",
       "    </tr>\n",
       "    <tr>\n",
       "      <th>3</th>\n",
       "      <td>1013</td>\n",
       "      <td>Male</td>\n",
       "      <td>Sales</td>\n",
       "      <td>61000</td>\n",
       "      <td>29</td>\n",
       "      <td>6</td>\n",
       "    </tr>\n",
       "    <tr>\n",
       "      <th>4</th>\n",
       "      <td>1014</td>\n",
       "      <td>Female</td>\n",
       "      <td>Finance</td>\n",
       "      <td>45000</td>\n",
       "      <td>27</td>\n",
       "      <td>4</td>\n",
       "    </tr>\n",
       "  </tbody>\n",
       "</table>\n",
       "</div>"
      ],
      "text/plain": [
       "   Employee_Code   Gender Department  Annual Salary ($)  Age  Work_Experience\n",
       "0            1010    Male        IT               27000   22                0\n",
       "1            1011  Female        IT               48000   27                4\n",
       "2            1012    Male      Sales              75000   31                7\n",
       "3            1013    Male      Sales              61000   29                6\n",
       "4            1014  Female    Finance              45000   27                4"
      ]
     },
     "execution_count": 3,
     "metadata": {},
     "output_type": "execute_result"
    }
   ],
   "source": [
    "df.head()"
   ]
  },
  {
   "cell_type": "code",
   "execution_count": 4,
   "id": "64ab1676",
   "metadata": {},
   "outputs": [
    {
     "name": "stdout",
     "output_type": "stream",
     "text": [
      "<class 'pandas.core.frame.DataFrame'>\n",
      "RangeIndex: 70 entries, 0 to 69\n",
      "Data columns (total 6 columns):\n",
      " #   Column             Non-Null Count  Dtype \n",
      "---  ------             --------------  ----- \n",
      " 0   Employee_Code      70 non-null     int64 \n",
      " 1   Gender             70 non-null     object\n",
      " 2   Department         70 non-null     object\n",
      " 3   Annual Salary ($)  70 non-null     int64 \n",
      " 4   Age                70 non-null     int64 \n",
      " 5   Work_Experience    70 non-null     int64 \n",
      "dtypes: int64(4), object(2)\n",
      "memory usage: 3.4+ KB\n"
     ]
    }
   ],
   "source": [
    "df.info()"
   ]
  },
  {
   "cell_type": "code",
   "execution_count": 5,
   "id": "22529077",
   "metadata": {},
   "outputs": [
    {
     "data": {
      "text/plain": [
       "Employee_Code        0\n",
       "Gender               0\n",
       "Department           0\n",
       "Annual Salary ($)    0\n",
       "Age                  0\n",
       "Work_Experience      0\n",
       "dtype: int64"
      ]
     },
     "execution_count": 5,
     "metadata": {},
     "output_type": "execute_result"
    }
   ],
   "source": [
    "df.isnull().sum()"
   ]
  },
  {
   "cell_type": "code",
   "execution_count": 25,
   "id": "19f5cca1",
   "metadata": {},
   "outputs": [
    {
     "name": "stdout",
     "output_type": "stream",
     "text": [
      "Department\n",
      "Finance     790000\n",
      "HR          987000\n",
      "IT         1282900\n",
      "Sales      1089000\n",
      "Name: Annual Salary ($), dtype: int64\n",
      "\n",
      "Departments:  Index(['Finance', 'HR', 'IT ', 'Sales'], dtype='object', name='Department')\n",
      "Cost to company:  [ 790000  987000 1282900 1089000]\n"
     ]
    }
   ],
   "source": [
    "# Task 1\n",
    "a=df.groupby(['Department'])['Annual Salary ($)'].sum()\n",
    "print(a)\n",
    "print('\\nDepartments: ',a.index)\n",
    "print('Cost to company: ',a.values)"
   ]
  },
  {
   "cell_type": "code",
   "execution_count": 26,
   "id": "930ab98f",
   "metadata": {},
   "outputs": [
    {
     "data": {
      "image/png": "[encoded data removed]",
      "text/plain": [
       "<Figure size 432x288 with 1 Axes>"
      ]
     },
     "metadata": {
      "needs_background": "light"
     },
     "output_type": "display_data"
    }
   ],
   "source": [
    "plt.bar(a.index,a.values,color='green')\n",
    "plt.xlabel('Department')\n",
    "plt.ylabel('company cost')\n",
    "plt.title('Cost To Company Department-wise')\n",
    "plt.show()"
   ]
  },
  {
   "cell_type": "markdown",
   "id": "57fa7ecb",
   "metadata": {},
   "source": [
    "IT Department have maximum cost to company"
   ]
  },
  {
   "cell_type": "code",
   "execution_count": 50,
   "id": "6c79568a",
   "metadata": {},
   "outputs": [
    {
     "name": "stdout",
     "output_type": "stream",
     "text": [
      "Index(['Finance', 'HR', 'IT ', 'Sales'], dtype='object', name='Department')\n",
      "[[ 2 11]\n",
      " [11  4]\n",
      " [10 12]\n",
      " [ 4 16]]\n"
     ]
    },
    {
     "data": {
      "text/html": [
       "<div>\n",
       "<style scoped>\n",
       "    .dataframe tbody tr th:only-of-type {\n",
       "        vertical-align: middle;\n",
       "    }\n",
       "\n",
       "    .dataframe tbody tr th {\n",
       "        vertical-align: top;\n",
       "    }\n",
       "\n",
       "    .dataframe thead th {\n",
       "        text-align: right;\n",
       "    }\n",
       "</style>\n",
       "<table border=\"1\" class=\"dataframe\">\n",
       "  <thead>\n",
       "    <tr style=\"text-align: right;\">\n",
       "      <th>Gender</th>\n",
       "      <th>Female</th>\n",
       "      <th>Male</th>\n",
       "    </tr>\n",
       "    <tr>\n",
       "      <th>Department</th>\n",
       "      <th></th>\n",
       "      <th></th>\n",
       "    </tr>\n",
       "  </thead>\n",
       "  <tbody>\n",
       "    <tr>\n",
       "      <th>Finance</th>\n",
       "      <td>2</td>\n",
       "      <td>11</td>\n",
       "    </tr>\n",
       "    <tr>\n",
       "      <th>HR</th>\n",
       "      <td>11</td>\n",
       "      <td>4</td>\n",
       "    </tr>\n",
       "    <tr>\n",
       "      <th>IT</th>\n",
       "      <td>10</td>\n",
       "      <td>12</td>\n",
       "    </tr>\n",
       "    <tr>\n",
       "      <th>Sales</th>\n",
       "      <td>4</td>\n",
       "      <td>16</td>\n",
       "    </tr>\n",
       "  </tbody>\n",
       "</table>\n",
       "</div>"
      ],
      "text/plain": [
       "Gender      Female  Male\n",
       "Department              \n",
       "Finance          2    11\n",
       "HR              11     4\n",
       "IT              10    12\n",
       "Sales            4    16"
      ]
     },
     "execution_count": 50,
     "metadata": {},
     "output_type": "execute_result"
    }
   ],
   "source": [
    "# Task 2\n",
    "b=pd.crosstab(df.Department,df.Gender,rownames=['Department'],colnames=['Gender'])\n",
    "\n",
    "print(b.index)\n",
    "print(b.values)\n",
    "b"
   ]
  },
  {
   "cell_type": "code",
   "execution_count": 40,
   "id": "988433e3",
   "metadata": {},
   "outputs": [
    {
     "name": "stdout",
     "output_type": "stream",
     "text": [
      "Department  Gender\n",
      "Finance     Female     2\n",
      "            Male      11\n",
      "HR          Female    11\n",
      "            Male       4\n",
      "IT          Female    10\n",
      "            Male      12\n",
      "Sales       Female     4\n",
      "            Male      16\n",
      "Name: Gender, dtype: int64\n",
      "MultiIndex([('Finance', 'Female'),\n",
      "            ('Finance',   'Male'),\n",
      "            (     'HR', 'Female'),\n",
      "            (     'HR',   'Male'),\n",
      "            (    'IT ', 'Female'),\n",
      "            (    'IT ',   'Male'),\n",
      "            (  'Sales', 'Female'),\n",
      "            (  'Sales',   'Male')],\n",
      "           names=['Department', 'Gender'])\n",
      "[ 2 11 11  4 10 12  4 16]\n"
     ]
    }
   ],
   "source": [
    "b1=df.groupby(['Department','Gender'])['Gender'].count()\n",
    "print(b1)\n",
    "print(b1.index)\n",
    "print(b1.values)"
   ]
  },
  {
   "cell_type": "code",
   "execution_count": 68,
   "id": "2a1a343f",
   "metadata": {},
   "outputs": [
    {
     "name": "stdout",
     "output_type": "stream",
     "text": [
      "  Department  Female  Male\n",
      "0    Finance       2    11\n",
      "1         HR      11     4\n",
      "2         IT      10    12\n",
      "3      Sales       4    16\n"
     ]
    }
   ],
   "source": [
    "b2=pd.DataFrame({'Department':['Finance','HR','IT','Sales'],'Female':[2,11,10,4],'Male':[11,4,12,16]})\n",
    "print(b2)"
   ]
  },
  {
   "cell_type": "code",
   "execution_count": 65,
   "id": "b9bce7fd",
   "metadata": {},
   "outputs": [
    {
     "data": {
      "image/png": "[encoded data removed]",
      "text/plain": [
       "<Figure size 432x288 with 1 Axes>"
      ]
     },
     "metadata": {
      "needs_background": "light"
     },
     "output_type": "display_data"
    }
   ],
   "source": [
    "b2.plot(x='Department',kind='bar')\n",
    "plt.show()"
   ]
  },
  {
   "cell_type": "code",
   "execution_count": 72,
   "id": "50240cc4",
   "metadata": {},
   "outputs": [
    {
     "data": {
      "image/png": "[encoded data removed]",
      "text/plain": [
       "<Figure size 432x288 with 1 Axes>"
      ]
     },
     "metadata": {
      "needs_background": "light"
     },
     "output_type": "display_data"
    }
   ],
   "source": [
    "b2.plot(x='Department',kind='bar',stacked=True)\n",
    "plt.show()"
   ]
  },
  {
   "cell_type": "code",
   "execution_count": 60,
   "id": "2ba0ebe5",
   "metadata": {},
   "outputs": [
    {
     "name": "stdout",
     "output_type": "stream",
     "text": [
      "    Employee_Code   Gender Department  Annual Salary ($)  Age  Work_Experience\n",
      "0             1010    Male        IT               27000   22                0\n",
      "7             1017    Male        IT               28000   23                0\n",
      "12            1022    Male        IT               29000   22                0\n",
      "46            1055    Male        IT               27500   22                0\n",
      "47            1056  Female        IT               29000   23                0\n",
      "\n",
      "The mean salary:  28100.0\n"
     ]
    }
   ],
   "source": [
    "# Task 3\n",
    "c=df[(df.Department=='IT ')&(df.Work_Experience==0)]\n",
    "print(c)\n",
    "c1=c['Annual Salary ($)'].mean()\n",
    "print('\\nThe mean salary: ',c1)"
   ]
  },
  {
   "cell_type": "code",
   "execution_count": 63,
   "id": "78235133",
   "metadata": {},
   "outputs": [
    {
     "data": {
      "text/plain": [
       "<AxesSubplot:>"
      ]
     },
     "execution_count": 63,
     "metadata": {},
     "output_type": "execute_result"
    },
    {
     "data": {
      "image/png": "[encoded data removed]",
      "text/plain": [
       "<Figure size 432x288 with 1 Axes>"
      ]
     },
     "metadata": {
      "needs_background": "light"
     },
     "output_type": "display_data"
    }
   ],
   "source": [
    "c['Annual Salary ($)'].plot.box()"
   ]
  },
  {
   "cell_type": "code",
   "execution_count": 69,
   "id": "f0b84d5f",
   "metadata": {},
   "outputs": [
    {
     "name": "stdout",
     "output_type": "stream",
     "text": [
      "Department\n",
      "Finance     790000\n",
      "HR          987000\n",
      "IT         1282900\n",
      "Sales      1089000\n",
      "Name: Annual Salary ($), dtype: int64\n",
      "\n",
      "Departments:  Index(['Finance', 'HR', 'IT ', 'Sales'], dtype='object', name='Department')\n",
      "Cost to company:  [ 790000  987000 1282900 1089000]\n"
     ]
    }
   ],
   "source": [
    "# Task 4\n",
    "d=df.groupby(['Department'])['Annual Salary ($)'].sum()\n",
    "print(d)\n",
    "print('\\nDepartments: ',d.index)\n",
    "print('Cost to company: ',d.values)"
   ]
  },
  {
   "cell_type": "code",
   "execution_count": 78,
   "id": "b6942f9e",
   "metadata": {},
   "outputs": [
    {
     "data": {
      "image/png": "[encoded data removed]",
      "text/plain": [
       "<Figure size 432x432 with 1 Axes>"
      ]
     },
     "metadata": {},
     "output_type": "display_data"
    }
   ],
   "source": [
    "fig,ax=plt.subplots(figsize=(6,6))\n",
    "ax.pie(d.values,labels=d.index,autopct='%.2f%%')\n",
    "plt.title('Cost To Company Department Ratio')\n",
    "plt.show()"
   ]
  },
  {
   "cell_type": "code",
   "execution_count": 90,
   "id": "8531d09d",
   "metadata": {},
   "outputs": [
    {
     "data": {
      "text/plain": [
       "(array([11., 17., 13., 10.,  3.,  5.,  3.,  3.,  3.,  2.]),\n",
       " array([22. , 24.8, 27.6, 30.4, 33.2, 36. , 38.8, 41.6, 44.4, 47.2, 50. ]),\n",
       " <BarContainer object of 10 artists>)"
      ]
     },
     "execution_count": 90,
     "metadata": {},
     "output_type": "execute_result"
    },
    {
     "data": {
      "image/png": "[encoded data removed]",
      "text/plain": [
       "<Figure size 432x288 with 1 Axes>"
      ]
     },
     "metadata": {
      "needs_background": "light"
     },
     "output_type": "display_data"
    }
   ],
   "source": [
    "# Task 5\n",
    "plt.hist(df['Age'])"
   ]
  },
  {
   "cell_type": "code",
   "execution_count": 91,
   "id": "45fef3a8",
   "metadata": {},
   "outputs": [
    {
     "data": {
      "image/png": "[encoded data removed]",
      "text/plain": [
       "<Figure size 432x288 with 1 Axes>"
      ]
     },
     "metadata": {
      "needs_background": "light"
     },
     "output_type": "display_data"
    }
   ],
   "source": [
    "# Task 6\n",
    "e=df.groupby(['Work_Experience'])['Annual Salary ($)'].mean()\n",
    "plt.plot(e.index,e.values)\n",
    "plt.show()"
   ]
  },
  {
   "cell_type": "code",
   "execution_count": 92,
   "id": "b3334d79",
   "metadata": {},
   "outputs": [
    {
     "data": {
      "image/png": "[encoded data removed]",
      "text/plain": [
       "<Figure size 432x288 with 1 Axes>"
      ]
     },
     "metadata": {
      "needs_background": "light"
     },
     "output_type": "display_data"
    }
   ],
   "source": [
    "# Task 7\n",
    "df.boxplot(column=['Annual Salary ($)'],by='Department')\n",
    "plt.show()"
   ]
  },
  {
   "cell_type": "code",
   "execution_count": 93,
   "id": "a61510b7",
   "metadata": {},
   "outputs": [
    {
     "data": {
      "text/plain": [
       "<AxesSubplot:>"
      ]
     },
     "execution_count": 93,
     "metadata": {},
     "output_type": "execute_result"
    },
    {
     "data": {
      "image/png": "[encoded data removed]",
      "text/plain": [
       "<Figure size 432x288 with 1 Axes>"
      ]
     },
     "metadata": {
      "needs_background": "light"
     },
     "output_type": "display_data"
    }
   ],
   "source": [
    "f=df[df.Department=='Finance']\n",
    "f['Annual Salary ($)'].plot.box()"
   ]
  },
  {
   "cell_type": "code",
   "execution_count": 94,
   "id": "438fced6",
   "metadata": {},
   "outputs": [
    {
     "data": {
      "text/plain": [
       "<AxesSubplot:>"
      ]
     },
     "execution_count": 94,
     "metadata": {},
     "output_type": "execute_result"
    },
    {
     "data": {
      "image/png": "[encoded data removed]",
      "text/plain": [
       "<Figure size 432x288 with 1 Axes>"
      ]
     },
     "metadata": {
      "needs_background": "light"
     },
     "output_type": "display_data"
    }
   ],
   "source": [
    "f1=df[df.Department=='HR']\n",
    "f1['Annual Salary ($)'].plot.box()"
   ]
  },
  {
   "cell_type": "code",
   "execution_count": 95,
   "id": "bae3755f",
   "metadata": {},
   "outputs": [
    {
     "data": {
      "text/plain": [
       "<AxesSubplot:>"
      ]
     },
     "execution_count": 95,
     "metadata": {},
     "output_type": "execute_result"
    },
    {
     "data": {
      "image/png": "[encoded data removed]",
      "text/plain": [
       "<Figure size 432x288 with 1 Axes>"
      ]
     },
     "metadata": {
      "needs_background": "light"
     },
     "output_type": "display_data"
    }
   ],
   "source": [
    "f2=df[df.Department=='IT ']\n",
    "f2['Annual Salary ($)'].plot.box()"
   ]
  },
  {
   "cell_type": "code",
   "execution_count": 96,
   "id": "8cb39bb3",
   "metadata": {},
   "outputs": [
    {
     "data": {
      "text/plain": [
       "<AxesSubplot:>"
      ]
     },
     "execution_count": 96,
     "metadata": {},
     "output_type": "execute_result"
    },
    {
     "data": {
      "image/png": "[encoded data removed]",
      "text/plain": [
       "<Figure size 432x288 with 1 Axes>"
      ]
     },
     "metadata": {
      "needs_background": "light"
     },
     "output_type": "display_data"
    }
   ],
   "source": [
    "f3=df[df.Department=='Sales']\n",
    "f3['Annual Salary ($)'].plot.box()"
   ]
  }
 ],
 "metadata": {
  "kernelspec": {
   "display_name": "Python 3 (ipykernel)",
   "language": "python",
   "name": "python3"
  },
  "language_info": {
   "codemirror_mode": {
    "name": "ipython",
    "version": 3
   },
   "file_extension": ".py",
   "mimetype": "text/x-python",
   "name": "python",
   "nbconvert_exporter": "python",
   "pygments_lexer": "ipython3",
   "version": "3.9.7"
  }
 },
 "nbformat": 4,
 "nbformat_minor": 5
}
