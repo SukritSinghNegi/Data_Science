{
 "cells": [
  {
   "cell_type": "markdown",
   "id": "b9c7c2b2",
   "metadata": {},
   "source": [
    "# Creating Data Frames Using Series"
   ]
  },
  {
   "cell_type": "code",
   "execution_count": 76,
   "id": "72e3fb80",
   "metadata": {},
   "outputs": [],
   "source": [
    "import pandas as pd\n",
    "import numpy as np"
   ]
  },
  {
   "cell_type": "code",
   "execution_count": 77,
   "id": "0f793b3b",
   "metadata": {},
   "outputs": [
    {
     "name": "stdout",
     "output_type": "stream",
     "text": [
      "Student maths marks:\n",
      " 0    75\n",
      "1    46\n",
      "2    63\n",
      "3    34\n",
      "4    54\n",
      "5    31\n",
      "6    30\n",
      "7    71\n",
      "8    88\n",
      "9    72\n",
      "dtype: int32\n"
     ]
    }
   ],
   "source": [
    "# Task 1\n",
    "math=pd.Series(np.random.randint(30,100,10))\n",
    "print('Student maths marks:\\n',math)"
   ]
  },
  {
   "cell_type": "code",
   "execution_count": 78,
   "id": "2bdc6018",
   "metadata": {},
   "outputs": [
    {
     "name": "stdout",
     "output_type": "stream",
     "text": [
      "Student maths marks:\n",
      " 0    50\n",
      "1    58\n",
      "2    53\n",
      "3    56\n",
      "4    67\n",
      "5    98\n",
      "6    73\n",
      "7    83\n",
      "8    33\n",
      "9    52\n",
      "dtype: int32\n"
     ]
    }
   ],
   "source": [
    "# Task 2\n",
    "physics=pd.Series(np.random.randint(30,100,10))\n",
    "print('Student maths marks:\\n',physics)"
   ]
  },
  {
   "cell_type": "code",
   "execution_count": 79,
   "id": "6df5b96c",
   "metadata": {},
   "outputs": [
    {
     "name": "stdout",
     "output_type": "stream",
     "text": [
      "student qualified for the olympiad:\n",
      " 0    False\n",
      "1    False\n",
      "2    False\n",
      "3    False\n",
      "4    False\n",
      "5    False\n",
      "6    False\n",
      "7     True\n",
      "8    False\n",
      "9    False\n",
      "dtype: bool\n",
      "\n",
      "student qualified for the olympiad:\n",
      " 7    154\n",
      "dtype: int32\n"
     ]
    }
   ],
   "source": [
    "total=math+physics\n",
    "print('student qualified for the olympiad:\\n',total>=150)\n",
    "print('\\nstudent qualified for the olympiad:\\n',total[total>=150])"
   ]
  },
  {
   "cell_type": "code",
   "execution_count": 80,
   "id": "61ebe590",
   "metadata": {},
   "outputs": [
    {
     "name": "stdout",
     "output_type": "stream",
     "text": [
      "The difference is:\n",
      " 0    25\n",
      "1   -12\n",
      "2    10\n",
      "3   -22\n",
      "4   -13\n",
      "5   -67\n",
      "6   -43\n",
      "7   -12\n",
      "8    55\n",
      "9    20\n",
      "dtype: int32\n",
      "\n",
      "The student marks in maths greater then physics:\n",
      " 0    25\n",
      "2    10\n",
      "8    55\n",
      "9    20\n",
      "dtype: int32\n",
      "\n",
      "The student marks in maths less then physics:\n",
      " 1   -12\n",
      "3   -22\n",
      "4   -13\n",
      "5   -67\n",
      "6   -43\n",
      "7   -12\n",
      "dtype: int32\n"
     ]
    }
   ],
   "source": [
    "# Task 3\n",
    "diff=math-physics\n",
    "print('The difference is:\\n',diff)\n",
    "print('\\nThe student marks in maths greater then physics:\\n',diff[diff>0])\n",
    "print('\\nThe student marks in maths less then physics:\\n',diff[diff<0])"
   ]
  },
  {
   "cell_type": "code",
   "execution_count": 81,
   "id": "8cee5a67",
   "metadata": {},
   "outputs": [
    {
     "name": "stdout",
     "output_type": "stream",
     "text": [
      "Car model with car price:\n",
      " 101    45409\n",
      "102    31545\n",
      "103    45028\n",
      "104    48366\n",
      "105    30699\n",
      "106    42737\n",
      "107    38194\n",
      "108    32126\n",
      "109    37831\n",
      "110    42815\n",
      "111    43938\n",
      "112    43559\n",
      "113    39751\n",
      "114    41108\n",
      "115    44182\n",
      "116    40572\n",
      "117    30328\n",
      "118    46796\n",
      "119    30275\n",
      "120    47495\n",
      "dtype: int32\n"
     ]
    }
   ],
   "source": [
    "# task 4\n",
    "price=pd.Series(np.random.randint(30000,50000,20),index=np.arange(101,121))\n",
    "print('Car model with car price:\\n',price)"
   ]
  },
  {
   "cell_type": "code",
   "execution_count": 82,
   "id": "d1cc2cdc",
   "metadata": {},
   "outputs": [
    {
     "name": "stdout",
     "output_type": "stream",
     "text": [
      "The car having price greater then $40000:\n",
      " 101    45409\n",
      "103    45028\n",
      "104    48366\n",
      "106    42737\n",
      "110    42815\n",
      "111    43938\n",
      "112    43559\n",
      "114    41108\n",
      "115    44182\n",
      "116    40572\n",
      "118    46796\n",
      "120    47495\n",
      "dtype: int32\n",
      "\n",
      "The number of cars having price greater then $40000:  12\n"
     ]
    }
   ],
   "source": [
    "# Task 5\n",
    "deal=price[price>40000]\n",
    "print('The car having price greater then $40000:\\n',deal)\n",
    "print ('\\nThe number of cars having price greater then $40000: ',deal.count())\n"
   ]
  },
  {
   "cell_type": "code",
   "execution_count": 83,
   "id": "e708a056",
   "metadata": {},
   "outputs": [
    {
     "name": "stdout",
     "output_type": "stream",
     "text": [
      "The list from 111 to 116:\n",
      " 111    43938\n",
      "112    43559\n",
      "113    39751\n",
      "114    41108\n",
      "115    44182\n",
      "116    40572\n",
      "dtype: int32\n",
      "\n",
      "The highest price from the listed models : 44182\n"
     ]
    }
   ],
   "source": [
    "# Task 6\n",
    "Max=price[(price.index>=111)&(price.index<=116)]\n",
    "print('The list from 111 to 116:\\n',Max)\n",
    "print('\\nThe highest price from the listed models :',Max.max())"
   ]
  },
  {
   "cell_type": "code",
   "execution_count": 84,
   "id": "b9ee43a5",
   "metadata": {},
   "outputs": [
    {
     "name": "stdout",
     "output_type": "stream",
     "text": [
      "The car having price between $30000 and $40000:\n",
      " 102    31545\n",
      "105    30699\n",
      "107    38194\n",
      "108    32126\n",
      "109    37831\n",
      "113    39751\n",
      "117    30328\n",
      "119    30275\n",
      "dtype: int32\n",
      "\n",
      "The number of cars having price between $30000 and $40000:  8\n"
     ]
    }
   ],
   "source": [
    "# Task 7\n",
    "cars=price[(price<40000)&(price>30000)]\n",
    "print('The car having price between $30000 and $40000:\\n',cars)\n",
    "print ('\\nThe number of cars having price between $30000 and $40000: ',cars.count())"
   ]
  },
  {
   "cell_type": "code",
   "execution_count": 85,
   "id": "bb6b2918",
   "metadata": {},
   "outputs": [
    {
     "name": "stdout",
     "output_type": "stream",
     "text": [
      "the list of cars above the average price:\n",
      " 101    45409\n",
      "103    45028\n",
      "104    48366\n",
      "106    42737\n",
      "110    42815\n",
      "111    43938\n",
      "112    43559\n",
      "114    41108\n",
      "115    44182\n",
      "116    40572\n",
      "118    46796\n",
      "120    47495\n",
      "dtype: int32\n",
      "the count of cars above the average price: 12\n"
     ]
    }
   ],
   "source": [
    "# Task 8\n",
    "avg_price=price.mean()\n",
    "print('the list of cars above the average price:\\n',price[price>avg_price])\n",
    "print('the count of cars above the average price:',price[price>avg_price].count())"
   ]
  },
  {
   "cell_type": "code",
   "execution_count": 86,
   "id": "ff51b38d",
   "metadata": {},
   "outputs": [
    {
     "name": "stdout",
     "output_type": "stream",
     "text": [
      "New cars list:\n",
      " 201    34000\n",
      "202    45000\n",
      "203    54000\n",
      "dtype: int64\n",
      "\n",
      "Updated cars list:\n",
      " 101    45409\n",
      "102    31545\n",
      "103    45028\n",
      "104    48366\n",
      "105    30699\n",
      "106    42737\n",
      "107    38194\n",
      "108    32126\n",
      "109    37831\n",
      "110    42815\n",
      "111    43938\n",
      "112    43559\n",
      "113    39751\n",
      "114    41108\n",
      "115    44182\n",
      "116    40572\n",
      "117    30328\n",
      "118    46796\n",
      "119    30275\n",
      "120    47495\n",
      "201    34000\n",
      "202    45000\n",
      "203    54000\n",
      "dtype: int64\n"
     ]
    }
   ],
   "source": [
    "# Task 9\n",
    "new_cars=pd.Series([34000,45000,54000],index=np.arange(201,204))\n",
    "print('New cars list:\\n',new_cars)\n",
    "price=pd.concat([price,new_cars])\n",
    "print('\\nUpdated cars list:\\n',price)"
   ]
  },
  {
   "cell_type": "code",
   "execution_count": 87,
   "id": "1af7ee7c",
   "metadata": {},
   "outputs": [
    {
     "name": "stdout",
     "output_type": "stream",
     "text": [
      "The Original price:\n",
      " 101    45409\n",
      "102    31545\n",
      "103    45028\n",
      "104    48366\n",
      "105    30699\n",
      "106    42737\n",
      "107    38194\n",
      "108    32126\n",
      "109    37831\n",
      "110    42815\n",
      "111    43938\n",
      "112    43559\n",
      "113    39751\n",
      "114    41108\n",
      "115    44182\n",
      "116    40572\n",
      "117    30328\n",
      "118    46796\n",
      "119    30275\n",
      "120    47495\n",
      "201    34000\n",
      "202    45000\n",
      "203    54000\n",
      "dtype: int64\n",
      "\n",
      "The discounted price:\n",
      " 101    40868.1\n",
      "102    31545.0\n",
      "103    40525.2\n",
      "104    43529.4\n",
      "105    30699.0\n",
      "106    38463.3\n",
      "107    38194.0\n",
      "108    32126.0\n",
      "109    37831.0\n",
      "110    38533.5\n",
      "111    39544.2\n",
      "112    39203.1\n",
      "113    39751.0\n",
      "114    36997.2\n",
      "115    39763.8\n",
      "116    36514.8\n",
      "117    30328.0\n",
      "118    42116.4\n",
      "119    30275.0\n",
      "120    42745.5\n",
      "201    34000.0\n",
      "202    40500.0\n",
      "203    48600.0\n",
      "dtype: float64\n"
     ]
    }
   ],
   "source": [
    "# task 10\n",
    "print('The Original price:\\n',price)\n",
    "dis1=price[price>40000]\n",
    "dis1=dis1*0.9\n",
    "dis2=price[price<40000]\n",
    "dis=pd.concat([dis1,dis2])\n",
    "print('\\nThe discounted price:\\n',dis.sort_index())"
   ]
  },
  {
   "cell_type": "code",
   "execution_count": 88,
   "id": "c7d81a39",
   "metadata": {},
   "outputs": [
    {
     "name": "stdout",
     "output_type": "stream",
     "text": [
      "The Original price:\n",
      " 101    45409\n",
      "102    31545\n",
      "103    45028\n",
      "104    48366\n",
      "105    30699\n",
      "106    42737\n",
      "107    38194\n",
      "108    32126\n",
      "109    37831\n",
      "110    42815\n",
      "111    43938\n",
      "112    43559\n",
      "113    39751\n",
      "114    41108\n",
      "115    44182\n",
      "116    40572\n",
      "117    30328\n",
      "118    46796\n",
      "119    30275\n",
      "120    47495\n",
      "201    34000\n",
      "202    45000\n",
      "203    54000\n",
      "dtype: int64\n",
      "\n",
      "The discounted price:\n",
      " 101    40868.1\n",
      "102    31545.0\n",
      "103    40525.2\n",
      "104    43529.4\n",
      "105    30699.0\n",
      "106    38463.3\n",
      "107    38194.0\n",
      "108    32126.0\n",
      "109    37831.0\n",
      "110    38533.5\n",
      "111    39544.2\n",
      "112    39203.1\n",
      "113    39751.0\n",
      "114    36997.2\n",
      "115    39763.8\n",
      "116    36514.8\n",
      "117    30328.0\n",
      "118    42116.4\n",
      "119    30275.0\n",
      "120    42745.5\n",
      "201    34000.0\n",
      "202    40500.0\n",
      "203    48600.0\n",
      "dtype: float64\n"
     ]
    }
   ],
   "source": [
    "print('The Original price:\\n',price)\n",
    "dis3=price\n",
    "dis3[dis3>40000]=dis3[dis3>40000]*0.9\n",
    "print('\\nThe discounted price:\\n',dis3)"
   ]
  },
  {
   "cell_type": "code",
   "execution_count": 91,
   "id": "dab5f0a8",
   "metadata": {},
   "outputs": [
    {
     "name": "stdout",
     "output_type": "stream",
     "text": [
      "The car having price between $30000 and $40000:\n",
      " 102    31545.0\n",
      "105    30699.0\n",
      "106    38463.3\n",
      "107    38194.0\n",
      "108    32126.0\n",
      "109    37831.0\n",
      "110    38533.5\n",
      "111    39544.2\n",
      "112    39203.1\n",
      "113    39751.0\n",
      "114    36997.2\n",
      "115    39763.8\n",
      "116    36514.8\n",
      "117    30328.0\n",
      "119    30275.0\n",
      "201    34000.0\n",
      "dtype: float64\n",
      "\n",
      "The number of cars having price between $30000 and $40000:  16\n",
      "The car having price between $30000 and $40000 after discount:\n",
      " 106    38463.3\n",
      "110    38533.5\n",
      "111    39544.2\n",
      "112    39203.1\n",
      "114    36997.2\n",
      "115    39763.8\n",
      "116    36514.8\n",
      "102    31545.0\n",
      "105    30699.0\n",
      "107    38194.0\n",
      "108    32126.0\n",
      "109    37831.0\n",
      "113    39751.0\n",
      "117    30328.0\n",
      "119    30275.0\n",
      "201    34000.0\n",
      "dtype: float64\n",
      "\n",
      "The number of cars having price between $30000 and $40000 after discount:  16\n"
     ]
    }
   ],
   "source": [
    "# task 11\n",
    "cars=price[(price<40000)&(price>30000)]\n",
    "print('The car having price between $30000 and $40000:\\n',cars)\n",
    "print ('\\nThe number of cars having price between $30000 and $40000: ',cars.count())\n",
    "d_cars=dis[(dis<40000)&(dis>30000)]\n",
    "print('The car having price between $30000 and $40000 after discount:\\n',d_cars)\n",
    "print ('\\nThe number of cars having price between $30000 and $40000 after discount: ',d_cars.count())\n"
   ]
  },
  {
   "cell_type": "code",
   "execution_count": 90,
   "id": "272b3482",
   "metadata": {},
   "outputs": [
    {
     "name": "stdout",
     "output_type": "stream",
     "text": [
      "Five cheapest cars:\n",
      " 119    30275.0\n",
      "117    30328.0\n",
      "105    30699.0\n",
      "102    31545.0\n",
      "108    32126.0\n",
      "dtype: float64\n"
     ]
    }
   ],
   "source": [
    "# Task 12\n",
    "cheap=dis.sort_values()\n",
    "print('Five cheapest cars:\\n',cheap[0:5])"
   ]
  },
  {
   "cell_type": "code",
   "execution_count": null,
   "id": "1d01bc0c",
   "metadata": {},
   "outputs": [],
   "source": []
  }
 ],
 "metadata": {
  "kernelspec": {
   "display_name": "Python 3 (ipykernel)",
   "language": "python",
   "name": "python3"
  },
  "language_info": {
   "codemirror_mode": {
    "name": "ipython",
    "version": 3
   },
   "file_extension": ".py",
   "mimetype": "text/x-python",
   "name": "python",
   "nbconvert_exporter": "python",
   "pygments_lexer": "ipython3",
   "version": "3.9.7"
  }
 },
 "nbformat": 4,
 "nbformat_minor": 5
}
