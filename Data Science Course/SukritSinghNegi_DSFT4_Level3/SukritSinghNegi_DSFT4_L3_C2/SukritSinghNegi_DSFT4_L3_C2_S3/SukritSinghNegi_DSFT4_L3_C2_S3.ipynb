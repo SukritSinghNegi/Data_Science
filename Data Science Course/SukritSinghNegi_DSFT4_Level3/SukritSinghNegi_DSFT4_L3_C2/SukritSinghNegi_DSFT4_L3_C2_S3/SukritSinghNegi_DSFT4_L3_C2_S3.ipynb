{
  "nbformat": 4,
  "nbformat_minor": 0,
  "metadata": {
    "colab": {
      "name": "SukritSinghNegi_DSFT4_L3_C2_S3.ipynb",
      "provenance": [],
      "collapsed_sections": []
    },
    "kernelspec": {
      "name": "python3",
      "display_name": "Python 3"
    },
    "language_info": {
      "name": "python"
    }
  },
  "cells": [
    {
      "cell_type": "code",
      "execution_count": 31,
      "metadata": {
        "id": "dQNXgiRArl5U"
      },
      "outputs": [],
      "source": [
        " import numpy as np\n",
        " import pandas as pd\n",
        " import tensorflow as tf\n",
        " from tensorflow import keras"
      ]
    },
    {
      "cell_type": "markdown",
      "source": [
        "TASK 1"
      ],
      "metadata": {
        "id": "txgp-zHrx5qT"
      }
    },
    {
      "cell_type": "code",
      "source": [
        "#a)\n",
        "def tanh(x):\n",
        "    return np.tanh(x)"
      ],
      "metadata": {
        "id": "v4pVLYtUmm-h"
      },
      "execution_count": 32,
      "outputs": []
    },
    {
      "cell_type": "code",
      "source": [
        "#b)\n",
        "def sigmoid(x):\n",
        "    return 1/(1+np.exp(-x))"
      ],
      "metadata": {
        "id": "qzRkcORYv3VU"
      },
      "execution_count": 33,
      "outputs": []
    },
    {
      "cell_type": "code",
      "source": [
        "#c)\n",
        "def softmax(x):\n",
        "    return np.exp(x) / np.sum(np.exp(x), axis=0)"
      ],
      "metadata": {
        "id": "FHD0KVhYvnMy"
      },
      "execution_count": 34,
      "outputs": []
    },
    {
      "cell_type": "code",
      "source": [
        "#d)\n",
        "def custom(x):\n",
        "    return 3*x**2+5"
      ],
      "metadata": {
        "id": "e1m7XDqewH1H"
      },
      "execution_count": 35,
      "outputs": []
    },
    {
      "cell_type": "markdown",
      "source": [
        "TASK 2"
      ],
      "metadata": {
        "id": "FEX5bWoAx-GK"
      }
    },
    {
      "cell_type": "code",
      "source": [
        "#a)\n",
        "x = np.linspace(-15,15,130)\n",
        "x.shape"
      ],
      "metadata": {
        "colab": {
          "base_uri": "https://localhost:8080/"
        },
        "id": "Fdvlq_BAxz_4",
        "outputId": "8471aaf0-1173-4eb7-e4e0-ad01a7328788"
      },
      "execution_count": 36,
      "outputs": [
        {
          "output_type": "execute_result",
          "data": {
            "text/plain": [
              "(130,)"
            ]
          },
          "metadata": {},
          "execution_count": 36
        }
      ]
    },
    {
      "cell_type": "code",
      "source": [
        "#b)\n",
        "data = x.reshape(130, 1)\n",
        "labels = tanh(x).reshape(130, 1)"
      ],
      "metadata": {
        "id": "7w0mT9X-02zx"
      },
      "execution_count": 47,
      "outputs": []
    },
    {
      "cell_type": "code",
      "source": [
        "import matplotlib.pyplot as plt\n",
        "#c)\n",
        "plt.plot(x, tanh(x))\n",
        "plt.axis('tight')\n",
        "plt.title('Activation Function :tanh')\n",
        "plt.show()"
      ],
      "metadata": {
        "colab": {
          "base_uri": "https://localhost:8080/",
          "height": 281
        },
        "id": "wooYYiCYzJ35",
        "outputId": "16dab2f4-606e-4c36-900e-be81a9155791"
      },
      "execution_count": 38,
      "outputs": [
        {
          "output_type": "display_data",
          "data": {
            "text/plain": [
              "<Figure size 432x288 with 1 Axes>"
            ],
            "image/png": "[encoded data removed]"
          },
          "metadata": {
            "needs_background": "light"
          }
        }
      ]
    },
    {
      "cell_type": "code",
      "source": [
        "!pip install neurolab"
      ],
      "metadata": {
        "colab": {
          "base_uri": "https://localhost:8080/"
        },
        "id": "qdg1xKsW7k5a",
        "outputId": "61a2b451-097a-4a06-d999-0b249cda531d"
      },
      "execution_count": 39,
      "outputs": [
        {
          "output_type": "stream",
          "name": "stdout",
          "text": [
            "Requirement already satisfied: neurolab in /usr/local/lib/python3.7/dist-packages (0.3.5)\n"
          ]
        }
      ]
    },
    {
      "cell_type": "code",
      "source": [
        "#d)\n",
        "import neurolab as nl\n",
        "nn = nl.net.newff([[-15, 15]], [10, 6, 1])"
      ],
      "metadata": {
        "id": "ry_43NHId7Mf"
      },
      "execution_count": 48,
      "outputs": []
    },
    {
      "cell_type": "code",
      "source": [
        "#e)\n",
        "nn.trainf = nl.train.train_gd"
      ],
      "metadata": {
        "id": "-0ZgHZ8SepjN"
      },
      "execution_count": 49,
      "outputs": []
    },
    {
      "cell_type": "code",
      "source": [
        "#f)\n",
        "\n",
        "error_progress = nn.train(data, labels, epochs=2000, show=100, goal=0.01)"
      ],
      "metadata": {
        "colab": {
          "base_uri": "https://localhost:8080/"
        },
        "id": "Ugmp8tdRzuN6",
        "outputId": "149b97f1-204a-4be8-c666-fc8695df906a"
      },
      "execution_count": 50,
      "outputs": [
        {
          "output_type": "stream",
          "name": "stdout",
          "text": [
            "Epoch: 100; Error: 0.028783076788162706;\n",
            "Epoch: 200; Error: 0.019193597134245163;\n",
            "Epoch: 300; Error: 0.01577420767738086;\n",
            "Epoch: 400; Error: 0.013940464305128495;\n",
            "Epoch: 500; Error: 0.012699814109591433;\n",
            "Epoch: 600; Error: 0.011743830775768394;\n",
            "Epoch: 700; Error: 0.01095160883990427;\n",
            "Epoch: 800; Error: 0.01026675885312769;\n",
            "The goal of learning is reached\n"
          ]
        }
      ]
    },
    {
      "cell_type": "code",
      "source": [
        "#g)\n",
        "output = nn.sim(data)\n",
        "y_pred = output.reshape(130)"
      ],
      "metadata": {
        "id": "ChI8VRXM2uDA"
      },
      "execution_count": 51,
      "outputs": []
    },
    {
      "cell_type": "code",
      "source": [
        "#h)\n",
        "\n",
        "plt.figure()\n",
        "plt.plot(error_progress)\n",
        "plt.xlabel('Number of epochs')\n",
        "plt.ylabel('Error')\n",
        "plt.title('Training error progress')"
      ],
      "metadata": {
        "colab": {
          "base_uri": "https://localhost:8080/",
          "height": 313
        },
        "id": "ErpS-jgBCe8w",
        "outputId": "afc15fe5-9a9e-4635-b4cf-c52c743db41e"
      },
      "execution_count": 53,
      "outputs": [
        {
          "output_type": "execute_result",
          "data": {
            "text/plain": [
              "Text(0.5, 1.0, 'Training error progress')"
            ]
          },
          "metadata": {},
          "execution_count": 53
        },
        {
          "output_type": "display_data",
          "data": {
            "text/plain": [
              "<Figure size 432x288 with 1 Axes>"
            ],
            "image/png": "[encoded data removed]"
          },
          "metadata": {
            "needs_background": "light"
          }
        }
      ]
    },
    {
      "cell_type": "code",
      "source": [
        "#i)\n",
        "x_dense = np.linspace(-15, 15, 130 )\n",
        "y_dense_pred = nn.sim(x_dense.reshape(x_dense.size,1)).reshape(x_dense.size)\n",
        "plt.figure()\n",
        "plt.plot(x_dense, y_dense_pred, '-', x, tanh(x), '.', x, y_pred, 'p')\n",
        "plt.title('Actual vs predicted')\n",
        "plt.show()"
      ],
      "metadata": {
        "colab": {
          "base_uri": "https://localhost:8080/",
          "height": 281
        },
        "id": "gYBuaXdL_qQz",
        "outputId": "7464337c-ad6c-470e-e598-e02aef389210"
      },
      "execution_count": 57,
      "outputs": [
        {
          "output_type": "display_data",
          "data": {
            "text/plain": [
              "<Figure size 432x288 with 1 Axes>"
            ],
            "image/png": "[encoded data removed]"
          },
          "metadata": {
            "needs_background": "light"
          }
        }
      ]
    },
    {
      "cell_type": "code",
      "source": [
        ""
      ],
      "metadata": {
        "id": "EYpl48aGKQW7"
      },
      "execution_count": null,
      "outputs": []
    }
  ]
}