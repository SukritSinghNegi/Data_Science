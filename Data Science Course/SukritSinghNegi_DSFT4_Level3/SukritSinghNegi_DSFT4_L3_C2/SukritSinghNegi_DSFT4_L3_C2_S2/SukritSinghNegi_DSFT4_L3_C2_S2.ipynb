{
  "nbformat": 4,
  "nbformat_minor": 0,
  "metadata": {
    "colab": {
      "name": "SukritSinghNegi_DSFT4_L3_C2_S2.ipynb",
      "provenance": [],
      "collapsed_sections": []
    },
    "kernelspec": {
      "name": "python3",
      "display_name": "Python 3"
    },
    "language_info": {
      "name": "python"
    }
  },
  "cells": [
    {
      "cell_type": "code",
      "execution_count": 1,
      "metadata": {
        "id": "xV5FujPIoVnu"
      },
      "outputs": [],
      "source": [
        "import numpy as np"
      ]
    },
    {
      "cell_type": "code",
      "source": [
        "import tensorflow as tf\n",
        "from tensorflow import keras"
      ],
      "metadata": {
        "id": "eAvT0u4_yJgR"
      },
      "execution_count": 2,
      "outputs": []
    },
    {
      "cell_type": "markdown",
      "source": [
        "**TASK 1**"
      ],
      "metadata": {
        "id": "1ydLpOAhKi9V"
      }
    },
    {
      "cell_type": "code",
      "source": [
        "tf.strings.join(['1045','chandler','chandler@friend.com','9876543210','newyork','M','17/09/1996'],separator=\"~\")"
      ],
      "metadata": {
        "id": "5T3T02c3yV5L",
        "colab": {
          "base_uri": "https://localhost:8080/"
        },
        "outputId": "8d19c54a-3bf2-4e51-cb9d-364918ce994e"
      },
      "execution_count": 3,
      "outputs": [
        {
          "output_type": "execute_result",
          "data": {
            "text/plain": [
              "<tf.Tensor: shape=(), dtype=string, numpy=b'1045~chandler~chandler@friend.com~9876543210~newyork~M~17/09/1996'>"
            ]
          },
          "metadata": {},
          "execution_count": 3
        }
      ]
    },
    {
      "cell_type": "code",
      "source": [
        ""
      ],
      "metadata": {
        "id": "d0wyGh4EVv-x"
      },
      "execution_count": 3,
      "outputs": []
    },
    {
      "cell_type": "markdown",
      "source": [
        "**TASK 2**"
      ],
      "metadata": {
        "id": "MjbyGBE7FFOe"
      }
    },
    {
      "cell_type": "code",
      "source": [
        "t=tf.constant(np.array(['indigo','violet','programmer','computer','training','kitchen','array','instagram','bluetooth']).reshape(3,3))\n",
        "t"
      ],
      "metadata": {
        "colab": {
          "base_uri": "https://localhost:8080/"
        },
        "id": "Vf0Q_YM0yXwQ",
        "outputId": "1c36a048-ada0-4829-b655-587dd34a388c"
      },
      "execution_count": 4,
      "outputs": [
        {
          "output_type": "execute_result",
          "data": {
            "text/plain": [
              "<tf.Tensor: shape=(3, 3), dtype=string, numpy=\n",
              "array([[b'indigo', b'violet', b'programmer'],\n",
              "       [b'computer', b'training', b'kitchen'],\n",
              "       [b'array', b'instagram', b'bluetooth']], dtype=object)>"
            ]
          },
          "metadata": {},
          "execution_count": 4
        }
      ]
    },
    {
      "cell_type": "markdown",
      "source": [
        "**TASK 3**"
      ],
      "metadata": {
        "id": "0toZFgemFVa2"
      }
    },
    {
      "cell_type": "code",
      "source": [
        "Product_Price=tf.constant(1895.2)\n",
        "print(Product_Price)\n",
        "new=tf.constant(1895.2,tf.float16)\n",
        "print(new)"
      ],
      "metadata": {
        "colab": {
          "base_uri": "https://localhost:8080/"
        },
        "id": "efOKGrhwBgw9",
        "outputId": "86229e8f-7c0e-4412-817f-c2feaf74e8c1"
      },
      "execution_count": 5,
      "outputs": [
        {
          "output_type": "stream",
          "name": "stdout",
          "text": [
            "tf.Tensor(1895.2, shape=(), dtype=float32)\n",
            "tf.Tensor(1895.0, shape=(), dtype=float16)\n"
          ]
        }
      ]
    },
    {
      "cell_type": "markdown",
      "source": [
        "**TASK 4**"
      ],
      "metadata": {
        "id": "AKW-ztD_KWcJ"
      }
    },
    {
      "cell_type": "code",
      "source": [
        "mark = np.round(np.random.uniform(100,200,15).reshape(-1,3),5 )\n",
        "marks= tf.constant(mark,tf.int16)\n",
        "marks"
      ],
      "metadata": {
        "id": "RQ62rp9ZGu8m",
        "colab": {
          "base_uri": "https://localhost:8080/"
        },
        "outputId": "88937cac-41cc-4e6d-f515-dbc36c64804c"
      },
      "execution_count": 6,
      "outputs": [
        {
          "output_type": "execute_result",
          "data": {
            "text/plain": [
              "<tf.Tensor: shape=(5, 3), dtype=int16, numpy=\n",
              "array([[150, 137, 101],\n",
              "       [142, 169, 187],\n",
              "       [194, 157, 130],\n",
              "       [170, 187, 165],\n",
              "       [118, 178, 102]], dtype=int16)>"
            ]
          },
          "metadata": {},
          "execution_count": 6
        }
      ]
    },
    {
      "cell_type": "code",
      "source": [
        "total=tf.Variable(marks)\n",
        "print(total)\n",
        "for x in range(len(marks)):\n",
        "  for y in range(len(marks[x])):\n",
        "    total[x,y].assign(np.random.randint(100,200))\n",
        "print(total)"
      ],
      "metadata": {
        "id": "N8AdBK05NAW0",
        "colab": {
          "base_uri": "https://localhost:8080/"
        },
        "outputId": "4838bc4d-2930-4994-da29-6342e614ca05"
      },
      "execution_count": 7,
      "outputs": [
        {
          "output_type": "stream",
          "name": "stdout",
          "text": [
            "<tf.Variable 'Variable:0' shape=(5, 3) dtype=int16, numpy=\n",
            "array([[150, 137, 101],\n",
            "       [142, 169, 187],\n",
            "       [194, 157, 130],\n",
            "       [170, 187, 165],\n",
            "       [118, 178, 102]], dtype=int16)>\n",
            "<tf.Variable 'Variable:0' shape=(5, 3) dtype=int16, numpy=\n",
            "array([[170, 117, 197],\n",
            "       [148, 105, 113],\n",
            "       [102, 114, 126],\n",
            "       [105, 172, 166],\n",
            "       [116, 197, 102]], dtype=int16)>\n"
          ]
        }
      ]
    },
    {
      "cell_type": "markdown",
      "source": [
        "**TASK 5**"
      ],
      "metadata": {
        "id": "DVJfZ8qvXbkM"
      }
    },
    {
      "cell_type": "code",
      "source": [
        ""
      ],
      "metadata": {
        "id": "WXe6AwXzXa4l"
      },
      "execution_count": 7,
      "outputs": []
    },
    {
      "cell_type": "markdown",
      "source": [
        "**TASK 6**"
      ],
      "metadata": {
        "id": "erDRlOiA-jcz"
      }
    },
    {
      "cell_type": "code",
      "source": [
        "t_currency = {'india':'rupee', 'america':'dollar','eurpoe':'euro'}\n",
        "t_currency\n",
        "\n",
        "currency_keys = tf.convert_to_tensor(list(t_currency.keys()))\n",
        "print(currency_keys)\n",
        "currency_values = tf.convert_to_tensor(list(t_currency.values()))\n",
        "print(currency_values)\n"
      ],
      "metadata": {
        "id": "SQgJhOTFRfDc",
        "colab": {
          "base_uri": "https://localhost:8080/"
        },
        "outputId": "dc674ff0-28d2-410a-f9bd-50a4a24a0eb1"
      },
      "execution_count": 8,
      "outputs": [
        {
          "output_type": "stream",
          "name": "stdout",
          "text": [
            "tf.Tensor([b'india' b'america' b'eurpoe'], shape=(3,), dtype=string)\n",
            "tf.Tensor([b'rupee' b'dollar' b'euro'], shape=(3,), dtype=string)\n"
          ]
        }
      ]
    },
    {
      "cell_type": "markdown",
      "source": [
        "**TASK 7**"
      ],
      "metadata": {
        "id": "6yWA2xbUUvG0"
      }
    },
    {
      "cell_type": "code",
      "source": [
        "unit=tf.constant(np.random.randint(1,10,4).reshape(2,2))\n",
        "unit_price=tf.constant(np.random.randint(100,200,4).reshape(2,2))\n",
        "print(unit,unit_price)\n",
        "grand_price=unit*unit_price\n",
        "print(grand_price)\n",
        "grand_total=sum(np.array(grand_price).reshape(-1))\n",
        "print(grand_total)"
      ],
      "metadata": {
        "id": "p2xvT8_z_cMS",
        "colab": {
          "base_uri": "https://localhost:8080/"
        },
        "outputId": "611fd497-4f6e-4996-dd04-1b9388733510"
      },
      "execution_count": 9,
      "outputs": [
        {
          "output_type": "stream",
          "name": "stdout",
          "text": [
            "tf.Tensor(\n",
            "[[1 2]\n",
            " [9 9]], shape=(2, 2), dtype=int64) tf.Tensor(\n",
            "[[193 181]\n",
            " [153 131]], shape=(2, 2), dtype=int64)\n",
            "tf.Tensor(\n",
            "[[ 193  362]\n",
            " [1377 1179]], shape=(2, 2), dtype=int64)\n",
            "3111\n"
          ]
        }
      ]
    },
    {
      "cell_type": "code",
      "source": [
        ""
      ],
      "metadata": {
        "id": "pYyzmuQ_GHHX"
      },
      "execution_count": 9,
      "outputs": []
    }
  ]
}