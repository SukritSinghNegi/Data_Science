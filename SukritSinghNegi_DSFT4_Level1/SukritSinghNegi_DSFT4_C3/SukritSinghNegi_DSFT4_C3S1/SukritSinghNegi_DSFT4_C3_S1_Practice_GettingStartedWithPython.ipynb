{
 "cells": [
  {
   "cell_type": "code",
   "execution_count": 1,
   "id": "0aa770ff",
   "metadata": {},
   "outputs": [
    {
     "name": "stdout",
     "output_type": "stream",
     "text": [
      "10\n",
      "2202044492368\n",
      "<class 'int'>\n"
     ]
    }
   ],
   "source": [
    "# Practice 1\n",
    "# creating variables\n",
    "# a)\n",
    "rollno =10\n",
    "print(rollno)\n",
    "print(id(rollno))\n",
    "print(type(rollno))"
   ]
  },
  {
   "cell_type": "code",
   "execution_count": 2,
   "id": "bc24cf35",
   "metadata": {},
   "outputs": [
    {
     "name": "stdout",
     "output_type": "stream",
     "text": [
      "abc\n",
      "2202051404592\n",
      "<class 'str'>\n"
     ]
    }
   ],
   "source": [
    "# b)\n",
    "firstname = 'abc'\n",
    "print(firstname)\n",
    "print(id(firstname))\n",
    "print(type(firstname))\n"
   ]
  },
  {
   "cell_type": "code",
   "execution_count": 4,
   "id": "802350c5",
   "metadata": {},
   "outputs": [
    {
     "name": "stdout",
     "output_type": "stream",
     "text": [
      "xyz\n",
      "2202125750192\n",
      "<class 'str'>\n"
     ]
    }
   ],
   "source": [
    "# C)\n",
    "lastname = 'xyz'\n",
    "print(lastname)\n",
    "print(id(lastname))\n",
    "print(type(lastname))"
   ]
  },
  {
   "cell_type": "code",
   "execution_count": 5,
   "id": "a5a1689b",
   "metadata": {},
   "outputs": [
    {
     "name": "stdout",
     "output_type": "stream",
     "text": [
      "50\n",
      "2202044493648\n",
      "<class 'int'>\n"
     ]
    }
   ],
   "source": [
    "# d)\n",
    "maxmarks =50\n",
    "print(maxmarks)\n",
    "print(id(maxmarks))\n",
    "print(type(maxmarks))"
   ]
  },
  {
   "cell_type": "code",
   "execution_count": 68,
   "id": "3312b3d9",
   "metadata": {},
   "outputs": [
    {
     "name": "stdout",
     "output_type": "stream",
     "text": [
      "2\n"
     ]
    }
   ],
   "source": [
    "# Practice 2\n",
    "# Naming a Variable\n",
    "# a)\n",
    "var1 = 2\n",
    "print (var1)\n",
    "# value 2 is assigned to the variable var1"
   ]
  },
  {
   "cell_type": "code",
   "execution_count": 9,
   "id": "573ac4d6",
   "metadata": {},
   "outputs": [
    {
     "ename": "SyntaxError",
     "evalue": "invalid syntax (Temp/ipykernel_15660/1541535135.py, line 2)",
     "output_type": "error",
     "traceback": [
      "\u001b[1;36m  File \u001b[1;32m\"C:\\Users\\krish\\AppData\\Local\\Temp/ipykernel_15660/1541535135.py\"\u001b[1;36m, line \u001b[1;32m2\u001b[0m\n\u001b[1;33m    2var = 2\u001b[0m\n\u001b[1;37m     ^\u001b[0m\n\u001b[1;31mSyntaxError\u001b[0m\u001b[1;31m:\u001b[0m invalid syntax\n"
     ]
    }
   ],
   "source": [
    "# b)\n",
    "2var = 2\n",
    "# the variable can not be start with numerical values"
   ]
  },
  {
   "cell_type": "code",
   "execution_count": 10,
   "id": "095c93d5",
   "metadata": {},
   "outputs": [
    {
     "ename": "SyntaxError",
     "evalue": "invalid syntax (Temp/ipykernel_15660/2995598934.py, line 2)",
     "output_type": "error",
     "traceback": [
      "\u001b[1;36m  File \u001b[1;32m\"C:\\Users\\krish\\AppData\\Local\\Temp/ipykernel_15660/2995598934.py\"\u001b[1;36m, line \u001b[1;32m2\u001b[0m\n\u001b[1;33m    var 1 = 2\u001b[0m\n\u001b[1;37m        ^\u001b[0m\n\u001b[1;31mSyntaxError\u001b[0m\u001b[1;31m:\u001b[0m invalid syntax\n"
     ]
    }
   ],
   "source": [
    "# c)\n",
    "var 1 = 2\n",
    "# the variable can not have space in the name"
   ]
  },
  {
   "cell_type": "code",
   "execution_count": 11,
   "id": "8f66786b",
   "metadata": {},
   "outputs": [
    {
     "ename": "SyntaxError",
     "evalue": "invalid syntax (Temp/ipykernel_15660/2002834382.py, line 2)",
     "output_type": "error",
     "traceback": [
      "\u001b[1;36m  File \u001b[1;32m\"C:\\Users\\krish\\AppData\\Local\\Temp/ipykernel_15660/2002834382.py\"\u001b[1;36m, line \u001b[1;32m2\u001b[0m\n\u001b[1;33m    var$2 =2\u001b[0m\n\u001b[1;37m       ^\u001b[0m\n\u001b[1;31mSyntaxError\u001b[0m\u001b[1;31m:\u001b[0m invalid syntax\n"
     ]
    }
   ],
   "source": [
    "# d)\n",
    "var$2 =2\n",
    "# the variable can not have special character other then _(underscore)"
   ]
  },
  {
   "cell_type": "code",
   "execution_count": 69,
   "id": "f9f1da3a",
   "metadata": {},
   "outputs": [
    {
     "name": "stdout",
     "output_type": "stream",
     "text": [
      "5\n"
     ]
    }
   ],
   "source": [
    "# Practice 3\n",
    "# Assigning Values to a variable\n",
    "# a)\n",
    "Class = 5\n",
    "print(Class)\n",
    "# value 5 is assigned to the variable Class due to case senstivity Class is not considerd as keyword"
   ]
  },
  {
   "cell_type": "code",
   "execution_count": 15,
   "id": "92c32a73",
   "metadata": {},
   "outputs": [
    {
     "ename": "SyntaxError",
     "evalue": "invalid syntax (Temp/ipykernel_15660/277343633.py, line 2)",
     "output_type": "error",
     "traceback": [
      "\u001b[1;36m  File \u001b[1;32m\"C:\\Users\\krish\\AppData\\Local\\Temp/ipykernel_15660/277343633.py\"\u001b[1;36m, line \u001b[1;32m2\u001b[0m\n\u001b[1;33m    class = 14\u001b[0m\n\u001b[1;37m          ^\u001b[0m\n\u001b[1;31mSyntaxError\u001b[0m\u001b[1;31m:\u001b[0m invalid syntax\n"
     ]
    }
   ],
   "source": [
    "# b)\n",
    "class = 14\n",
    "# variable can not be keyword "
   ]
  },
  {
   "cell_type": "code",
   "execution_count": 71,
   "id": "c5e21c10",
   "metadata": {},
   "outputs": [
    {
     "name": "stdout",
     "output_type": "stream",
     "text": [
      "13\n"
     ]
    }
   ],
   "source": [
    "# c)\n",
    "DEF = 13\n",
    "print(DEF)\n",
    "# value 13 is assigned to variable DEF "
   ]
  },
  {
   "cell_type": "code",
   "execution_count": 18,
   "id": "62b649e3",
   "metadata": {},
   "outputs": [
    {
     "ename": "SyntaxError",
     "evalue": "invalid syntax (Temp/ipykernel_15660/1992738082.py, line 2)",
     "output_type": "error",
     "traceback": [
      "\u001b[1;36m  File \u001b[1;32m\"C:\\Users\\krish\\AppData\\Local\\Temp/ipykernel_15660/1992738082.py\"\u001b[1;36m, line \u001b[1;32m2\u001b[0m\n\u001b[1;33m    def = 12\u001b[0m\n\u001b[1;37m        ^\u001b[0m\n\u001b[1;31mSyntaxError\u001b[0m\u001b[1;31m:\u001b[0m invalid syntax\n"
     ]
    }
   ],
   "source": [
    "# d)\n",
    "def = 12\n",
    "# variable can not be keyword d"
   ]
  },
  {
   "cell_type": "code",
   "execution_count": 73,
   "id": "e2667635",
   "metadata": {},
   "outputs": [
    {
     "ename": "NameError",
     "evalue": "name 'TRUE' is not defined",
     "output_type": "error",
     "traceback": [
      "\u001b[1;31m---------------------------------------------------------------------------\u001b[0m",
      "\u001b[1;31mNameError\u001b[0m                                 Traceback (most recent call last)",
      "\u001b[1;32m~\\AppData\\Local\\Temp/ipykernel_15660/3244445803.py\u001b[0m in \u001b[0;36m<module>\u001b[1;34m\u001b[0m\n\u001b[0;32m      1\u001b[0m \u001b[1;31m# e)\u001b[0m\u001b[1;33m\u001b[0m\u001b[1;33m\u001b[0m\u001b[0m\n\u001b[1;32m----> 2\u001b[1;33m \u001b[0ma\u001b[0m \u001b[1;33m=\u001b[0m \u001b[0mTRUE\u001b[0m\u001b[1;33m\u001b[0m\u001b[1;33m\u001b[0m\u001b[0m\n\u001b[0m\u001b[0;32m      3\u001b[0m \u001b[1;31m# as 'TRUE' coat is not around the TRUE value is not assigned to variable a or\u001b[0m\u001b[1;33m\u001b[0m\u001b[1;33m\u001b[0m\u001b[0m\n\u001b[0;32m      4\u001b[0m \u001b[1;31m# due to case senstivity the boolean value True is also not assigned to variable a\u001b[0m\u001b[1;33m\u001b[0m\u001b[1;33m\u001b[0m\u001b[0m\n",
      "\u001b[1;31mNameError\u001b[0m: name 'TRUE' is not defined"
     ]
    }
   ],
   "source": [
    "# e)\n",
    "a = TRUE\n",
    "# 'TRUE' coats is not around the TRUE value is not assigned to variable 'a' \n",
    "# due to case senstivity the boolean value True is also not assigned to variable a"
   ]
  },
  {
   "cell_type": "code",
   "execution_count": 74,
   "id": "70f3dc95",
   "metadata": {},
   "outputs": [
    {
     "ename": "NameError",
     "evalue": "name 'false' is not defined",
     "output_type": "error",
     "traceback": [
      "\u001b[1;31m---------------------------------------------------------------------------\u001b[0m",
      "\u001b[1;31mNameError\u001b[0m                                 Traceback (most recent call last)",
      "\u001b[1;32m~\\AppData\\Local\\Temp/ipykernel_15660/170305388.py\u001b[0m in \u001b[0;36m<module>\u001b[1;34m\u001b[0m\n\u001b[0;32m      1\u001b[0m \u001b[1;31m# f)\u001b[0m\u001b[1;33m\u001b[0m\u001b[1;33m\u001b[0m\u001b[0m\n\u001b[1;32m----> 2\u001b[1;33m \u001b[0mb\u001b[0m \u001b[1;33m=\u001b[0m \u001b[0mfalse\u001b[0m\u001b[1;33m\u001b[0m\u001b[1;33m\u001b[0m\u001b[0m\n\u001b[0m\u001b[0;32m      3\u001b[0m \u001b[1;31m# as 'false' coats is not around the false value is not assigned to variable b or\u001b[0m\u001b[1;33m\u001b[0m\u001b[1;33m\u001b[0m\u001b[0m\n\u001b[0;32m      4\u001b[0m \u001b[1;31m# due to case senstivity the boolean value False is also not assigned to variable b\u001b[0m\u001b[1;33m\u001b[0m\u001b[1;33m\u001b[0m\u001b[0m\n",
      "\u001b[1;31mNameError\u001b[0m: name 'false' is not defined"
     ]
    }
   ],
   "source": [
    "# f)\n",
    "b = false\n",
    "#'false' coats is not around the false value is not assigned to variable 'b' \n",
    "# due to case senstivity the boolean value False is also not assigned to variable 'b'"
   ]
  },
  {
   "cell_type": "code",
   "execution_count": 28,
   "id": "a03384f7",
   "metadata": {},
   "outputs": [
    {
     "name": "stdout",
     "output_type": "stream",
     "text": [
      "45.5\n",
      "2202170967120\n",
      "<class 'float'>\n"
     ]
    }
   ],
   "source": [
    "# Practice 4\n",
    "# Using id()\n",
    "# a)\n",
    "marks = 45.5\n",
    "print(marks)\n",
    "print(id(marks))\n",
    "print(type(marks))"
   ]
  },
  {
   "cell_type": "code",
   "execution_count": 29,
   "id": "d35c1d75",
   "metadata": {},
   "outputs": [
    {
     "name": "stdout",
     "output_type": "stream",
     "text": [
      "40.5\n",
      "2202170967216\n",
      "<class 'float'>\n"
     ]
    }
   ],
   "source": [
    "# b)\n",
    "marks = 40.5\n",
    "print(marks)\n",
    "print(id(marks))\n",
    "print(type(marks))"
   ]
  },
  {
   "cell_type": "code",
   "execution_count": null,
   "id": "f0093ac7",
   "metadata": {},
   "outputs": [],
   "source": [
    "# C) No, id for both is not same because varible is same but value asssiged to it are different."
   ]
  },
  {
   "cell_type": "code",
   "execution_count": 31,
   "id": "9dd685e7",
   "metadata": {},
   "outputs": [
    {
     "name": "stdout",
     "output_type": "stream",
     "text": [
      "87.0 %\n"
     ]
    }
   ],
   "source": [
    "# Practice 5\n",
    "# Formatting the output\n",
    "# a)\n",
    "marks=87\n",
    "maxmarks = 100\n",
    "per = marks/maxmarks*100\n",
    "print(per,'%')"
   ]
  },
  {
   "cell_type": "code",
   "execution_count": 33,
   "id": "a2d8b50b",
   "metadata": {},
   "outputs": [
    {
     "name": "stdout",
     "output_type": "stream",
     "text": [
      "abc xyz\n"
     ]
    }
   ],
   "source": [
    "# b)\n",
    "firstname='abc'\n",
    "lastname='xyz'\n",
    "fullname=firstname+' '+lastname\n",
    "print(fullname)"
   ]
  },
  {
   "cell_type": "code",
   "execution_count": 34,
   "id": "f3d24a3f",
   "metadata": {},
   "outputs": [
    {
     "name": "stdout",
     "output_type": "stream",
     "text": [
      "abc xyz  scored  87.0 %\n"
     ]
    }
   ],
   "source": [
    "# c)\n",
    "print(fullname,' scored ',per,'%')"
   ]
  },
  {
   "cell_type": "code",
   "execution_count": 35,
   "id": "f41ad3de",
   "metadata": {},
   "outputs": [],
   "source": [
    "# Practice 6\n"
   ]
  },
  {
   "cell_type": "code",
   "execution_count": 36,
   "id": "bcbf23a8",
   "metadata": {},
   "outputs": [
    {
     "ename": "TypeError",
     "evalue": "unsupported operand type(s) for +: 'int' and 'str'",
     "output_type": "error",
     "traceback": [
      "\u001b[1;31m---------------------------------------------------------------------------\u001b[0m",
      "\u001b[1;31mTypeError\u001b[0m                                 Traceback (most recent call last)",
      "\u001b[1;32m~\\AppData\\Local\\Temp/ipykernel_15660/3205863626.py\u001b[0m in \u001b[0;36m<module>\u001b[1;34m\u001b[0m\n\u001b[0;32m      1\u001b[0m \u001b[1;31m# Practice 7\u001b[0m\u001b[1;33m\u001b[0m\u001b[1;33m\u001b[0m\u001b[0m\n\u001b[0;32m      2\u001b[0m \u001b[1;31m# a)\u001b[0m\u001b[1;33m\u001b[0m\u001b[1;33m\u001b[0m\u001b[0m\n\u001b[1;32m----> 3\u001b[1;33m \u001b[1;36m1\u001b[0m\u001b[1;33m+\u001b[0m\u001b[1;34m\"2\"\u001b[0m\u001b[1;33m\u001b[0m\u001b[1;33m\u001b[0m\u001b[0m\n\u001b[0m",
      "\u001b[1;31mTypeError\u001b[0m: unsupported operand type(s) for +: 'int' and 'str'"
     ]
    }
   ],
   "source": [
    "# Practice 7\n",
    "# Arithmetic operations\n",
    "# a)\n",
    "1+\"2\"\n",
    "# concatenation can only be done between string "
   ]
  },
  {
   "cell_type": "code",
   "execution_count": 37,
   "id": "429aef38",
   "metadata": {},
   "outputs": [
    {
     "data": {
      "text/plain": [
       "'12'"
      ]
     },
     "execution_count": 37,
     "metadata": {},
     "output_type": "execute_result"
    }
   ],
   "source": [
    "# b)\n",
    "\"1\" + \"2\"\n",
    "# string \"2\" concatenate with string \"1\" gives the out put as  combined string"
   ]
  },
  {
   "cell_type": "code",
   "execution_count": 38,
   "id": "7589317f",
   "metadata": {},
   "outputs": [
    {
     "data": {
      "text/plain": [
       "0.5"
      ]
     },
     "execution_count": 38,
     "metadata": {},
     "output_type": "execute_result"
    }
   ],
   "source": [
    "# c)\n",
    "1/2\n",
    "# division operasion is executed between 1 and 2 and float value is returned"
   ]
  },
  {
   "cell_type": "code",
   "execution_count": 39,
   "id": "04b108d1",
   "metadata": {},
   "outputs": [
    {
     "data": {
      "text/plain": [
       "0"
      ]
     },
     "execution_count": 39,
     "metadata": {},
     "output_type": "execute_result"
    }
   ],
   "source": [
    "# d)\n",
    "1//2\n",
    "# float division operasion is executed between 1 and 2 and int value returned. the values before decimal point is returned "
   ]
  },
  {
   "cell_type": "code",
   "execution_count": 40,
   "id": "a17e9ed9",
   "metadata": {},
   "outputs": [
    {
     "data": {
      "text/plain": [
       "True"
      ]
     },
     "execution_count": 40,
     "metadata": {},
     "output_type": "execute_result"
    }
   ],
   "source": [
    "# Practice 8\n",
    "# Loggical operations\n",
    "# a)\n",
    "True and True\n",
    "# we have passed the boolean true, true follwing with the and operation , where True and True is True"
   ]
  },
  {
   "cell_type": "code",
   "execution_count": 41,
   "id": "bf02f680",
   "metadata": {},
   "outputs": [
    {
     "data": {
      "text/plain": [
       "False"
      ]
     },
     "execution_count": 41,
     "metadata": {},
     "output_type": "execute_result"
    }
   ],
   "source": [
    "# b)\n",
    "True and False\n",
    "# we have passed the boolean true, False follwing with the and operation , where True and False is False"
   ]
  },
  {
   "cell_type": "code",
   "execution_count": 43,
   "id": "3486e3a2",
   "metadata": {},
   "outputs": [
    {
     "data": {
      "text/plain": [
       "True"
      ]
     },
     "execution_count": 43,
     "metadata": {},
     "output_type": "execute_result"
    }
   ],
   "source": [
    "# c)\n",
    "False or True\n",
    "# we have passed the boolean False, True follwing with the or operation , where False or True is True"
   ]
  },
  {
   "cell_type": "code",
   "execution_count": 44,
   "id": "801dc368",
   "metadata": {},
   "outputs": [
    {
     "data": {
      "text/plain": [
       "False"
      ]
     },
     "execution_count": 44,
     "metadata": {},
     "output_type": "execute_result"
    }
   ],
   "source": [
    "# d)\n",
    "False or False\n",
    "# we have passed the boolean False , False follwing with the or operation , where False or False is False"
   ]
  },
  {
   "cell_type": "code",
   "execution_count": 48,
   "id": "605c766a",
   "metadata": {},
   "outputs": [
    {
     "name": "stdout",
     "output_type": "stream",
     "text": [
      "True\n"
     ]
    }
   ],
   "source": [
    "# Practice 9\n",
    "# Identity and Membership operations\n",
    "# a)\n",
    "\n",
    "print(firstname in fullname)\n",
    "\n",
    "# as string in firstname variable is available in the string assigned to fullname, True output is generated"
   ]
  },
  {
   "cell_type": "code",
   "execution_count": 49,
   "id": "754c5e1c",
   "metadata": {},
   "outputs": [
    {
     "name": "stdout",
     "output_type": "stream",
     "text": [
      "False\n"
     ]
    }
   ],
   "source": [
    "# b)\n",
    "\n",
    "print(firstname is fullname)\n",
    "# as string in firstname variable is not string in fullname variable false output is generated"
   ]
  },
  {
   "cell_type": "code",
   "execution_count": 53,
   "id": "d529040c",
   "metadata": {},
   "outputs": [],
   "source": [
    "# Practice 10\n",
    "# Associativity\n",
    "# if \n",
    "a=4\n",
    "b=3\n",
    "c=2\n",
    "d=a**b+c\n",
    "e=a**(b+c)"
   ]
  },
  {
   "cell_type": "code",
   "execution_count": 54,
   "id": "5107041a",
   "metadata": {},
   "outputs": [
    {
     "name": "stdout",
     "output_type": "stream",
     "text": [
      "66\n"
     ]
    }
   ],
   "source": [
    "# a)\n",
    "print(d)"
   ]
  },
  {
   "cell_type": "code",
   "execution_count": 55,
   "id": "5f35b0e5",
   "metadata": {},
   "outputs": [
    {
     "name": "stdout",
     "output_type": "stream",
     "text": [
      "1024\n"
     ]
    }
   ],
   "source": [
    "# b)\n",
    "print(e)"
   ]
  },
  {
   "cell_type": "code",
   "execution_count": 56,
   "id": "cac7ce08",
   "metadata": {},
   "outputs": [],
   "source": [
    "# c)\n",
    "# value of d and e are different dure to precedence order for d 4^3+2=>64+2=>66 for e 4^(3+2)=>4^5=>1024 PEMDAS"
   ]
  },
  {
   "cell_type": "code",
   "execution_count": 57,
   "id": "f0ff22e2",
   "metadata": {},
   "outputs": [
    {
     "name": "stdout",
     "output_type": "stream",
     "text": [
      "113.14285714285714\n"
     ]
    }
   ],
   "source": [
    "# Practice 11\n",
    "# Creating a Basic program\n",
    "radius=6\n",
    "pi = 22/7\n",
    "area=pi*radius**2\n",
    "print(area)"
   ]
  },
  {
   "cell_type": "code",
   "execution_count": 80,
   "id": "71d8b1d3",
   "metadata": {},
   "outputs": [
    {
     "name": "stdout",
     "output_type": "stream",
     "text": [
      "tax = 15.299999999999999  , price with tax = 100.3\n"
     ]
    }
   ],
   "source": [
    "# Practice 12\n",
    "# create a basic program\n",
    "price=85\n",
    "tax=price*0.18\n",
    "amoumt=price+tax\n",
    "print('tax =',tax,' , price with tax =',price+tax)"
   ]
  },
  {
   "cell_type": "code",
   "execution_count": 79,
   "id": "dff278bb",
   "metadata": {},
   "outputs": [
    {
     "name": "stdout",
     "output_type": "stream",
     "text": [
      "44.44 $ for INR 3333\n"
     ]
    }
   ],
   "source": [
    "# practice 13\n",
    "# create a basic program\n",
    "amount=3333\n",
    "conv=3333/75\n",
    "print(conv ,'$ for INR 3333' )"
   ]
  },
  {
   "cell_type": "code",
   "execution_count": 78,
   "id": "73f8455f",
   "metadata": {},
   "outputs": [
    {
     "name": "stdout",
     "output_type": "stream",
     "text": [
      "purchasing power 467.2897196261682\n"
     ]
    }
   ],
   "source": [
    "# Practice 14\n",
    "# create a basic program\n",
    "\n",
    "PP = 500*(1/(1+0.07))\n",
    "print('purchasing power',PP)"
   ]
  },
  {
   "cell_type": "code",
   "execution_count": null,
   "id": "beacdabc",
   "metadata": {},
   "outputs": [],
   "source": [
    "# Practice 15\n",
    "# save the file"
   ]
  }
 ],
 "metadata": {
  "kernelspec": {
   "display_name": "Python 3 (ipykernel)",
   "language": "python",
   "name": "python3"
  },
  "language_info": {
   "codemirror_mode": {
    "name": "ipython",
    "version": 3
   },
   "file_extension": ".py",
   "mimetype": "text/x-python",
   "name": "python",
   "nbconvert_exporter": "python",
   "pygments_lexer": "ipython3",
   "version": "3.9.7"
  }
 },
 "nbformat": 4,
 "nbformat_minor": 5
}
