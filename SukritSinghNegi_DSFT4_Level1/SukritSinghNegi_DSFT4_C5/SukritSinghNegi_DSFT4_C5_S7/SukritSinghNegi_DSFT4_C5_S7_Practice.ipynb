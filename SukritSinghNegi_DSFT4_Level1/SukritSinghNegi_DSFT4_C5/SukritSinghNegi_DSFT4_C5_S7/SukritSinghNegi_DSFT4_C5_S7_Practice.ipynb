{
 "cells": [
  {
   "cell_type": "markdown",
   "id": "6fb8a7ae",
   "metadata": {},
   "source": [
    "# Hypothesis Test - II"
   ]
  },
  {
   "cell_type": "code",
   "execution_count": 28,
   "id": "ce92a142",
   "metadata": {},
   "outputs": [],
   "source": [
    "import numpy as np\n",
    "import pandas as pd\n",
    "import statistics as st\n",
    "import scipy.stats as sts\n",
    "from scipy.stats import t\n",
    "from scipy.stats import f\n",
    "from scipy.stats import norm\n",
    "import math\n",
    "import matplotlib.pyplot as plt"
   ]
  },
  {
   "cell_type": "markdown",
   "id": "502f48b7",
   "metadata": {},
   "source": [
    "# Task 1"
   ]
  },
  {
   "cell_type": "markdown",
   "id": "9ecf4d9f",
   "metadata": {},
   "source": [
    "## Task 1 a)"
   ]
  },
  {
   "cell_type": "markdown",
   "id": "99f97cb3",
   "metadata": {},
   "source": [
    "\n",
    "\n",
    "Null hypothesis average score of student is greater then 71.                                                   \n",
    "Alternate hypothesis average score of student is equal to or less then 71\n",
    "\n",
    "as the sample size is less then 30 n < 30(t-test)                                                             \n",
    "Left side tail test\n",
    "\n",
    "H0: mean_s > 71                                                                          \n",
    "Ha: mean_s <= 71\n"
   ]
  },
  {
   "cell_type": "code",
   "execution_count": 29,
   "id": "c3b3c36b",
   "metadata": {},
   "outputs": [
    {
     "name": "stdout",
     "output_type": "stream",
     "text": [
      "Significance : 0.1\n",
      "Population Mean : 71\n",
      "Sample Mean : 79.16666666666667\n",
      "Sample Standard Deviation : 13.862419221285535\n",
      "Sample Size : 6\n",
      "Degree of Freedom : 5\n"
     ]
    }
   ],
   "source": [
    "alpha=0.1\n",
    "scores=[61,93,75,67,84,95]\n",
    "mean_p=71\n",
    "mean_s=st.mean(scores)\n",
    "sd_s=st.stdev(scores)\n",
    "n_s=len(scores)\n",
    "dof_s=n_s-1\n",
    "print('Significance :',alpha)\n",
    "print('Population Mean :',mean_p)\n",
    "print('Sample Mean :',mean_s)\n",
    "print('Sample Standard Deviation :',sd_s)\n",
    "print('Sample Size :',n_s)\n",
    "print('Degree of Freedom :',dof_s)"
   ]
  },
  {
   "cell_type": "markdown",
   "id": "e3d95038",
   "metadata": {},
   "source": [
    "## Task 1 b)"
   ]
  },
  {
   "cell_type": "code",
   "execution_count": 30,
   "id": "c6fc7831",
   "metadata": {},
   "outputs": [
    {
     "name": "stdout",
     "output_type": "stream",
     "text": [
      "\n",
      "Task 1 b)\n",
      "-t-critical : -2.0150483726691575\n"
     ]
    }
   ],
   "source": [
    "print('\\nTask 1 b)')\n",
    "t_critical=t.ppf(alpha/2,dof_s) # alpha =0.05\n",
    "print('-t-critical :',t_critical)"
   ]
  },
  {
   "cell_type": "markdown",
   "id": "cbf25075",
   "metadata": {},
   "source": [
    "## Task 1 c)"
   ]
  },
  {
   "cell_type": "code",
   "execution_count": 31,
   "id": "137e69f5",
   "metadata": {},
   "outputs": [
    {
     "name": "stdout",
     "output_type": "stream",
     "text": [
      "\n",
      "Task 1 c)\n",
      "t-statistic: 1.443050156931714\n"
     ]
    }
   ],
   "source": [
    "print('\\nTask 1 c)')\n",
    "t_statistic=(mean_s-mean_p)/(sd_s/math.sqrt(n_s))\n",
    "print('t-statistic:',t_statistic)"
   ]
  },
  {
   "cell_type": "markdown",
   "id": "0cc54328",
   "metadata": {},
   "source": [
    "## Task 1 d)"
   ]
  },
  {
   "cell_type": "code",
   "execution_count": 32,
   "id": "14ec92ca",
   "metadata": {},
   "outputs": [
    {
     "name": "stdout",
     "output_type": "stream",
     "text": [
      "\n",
      "Task 1 d)\n",
      "Fail to reject the null hypothesis(t_critical < t_statistic)\n"
     ]
    },
    {
     "data": {
      "image/png": "[encoded data removed]",
      "text/plain": [
       "<Figure size 432x288 with 1 Axes>"
      ]
     },
     "metadata": {
      "needs_background": "light"
     },
     "output_type": "display_data"
    }
   ],
   "source": [
    "print('\\nTask 1 d)')\n",
    "if t_statistic > t_critical:\n",
    "    print('Fail to reject the null hypothesis(t_critical < t_statistic)')\n",
    "else:\n",
    "    print('Reject the null hypothesis(t_critical > t_statistic)')\n",
    "\n",
    "lower=mean_s-4*sd_s\n",
    "upper=mean_s+4*sd_s\n",
    "plot_x=np.arange(-4,4,alpha)\n",
    "plot_y=t.pdf(plot_x,dof_s)\n",
    "plt.plot(plot_x,plot_y)\n",
    "plt.plot([t_critical,t_critical],[0.06,0],label='critical')\n",
    "plt.plot(t_statistic,0.05,'o-',label='t_statisctics')\n",
    "plt.legend()\n",
    "plt.show()"
   ]
  },
  {
   "cell_type": "markdown",
   "id": "9838844b",
   "metadata": {},
   "source": [
    "## Task 1 e)"
   ]
  },
  {
   "cell_type": "code",
   "execution_count": 33,
   "id": "8158d4a0",
   "metadata": {},
   "outputs": [
    {
     "name": "stdout",
     "output_type": "stream",
     "text": [
      "Task 1 e)\n",
      "Hence the null hypothesis is Rejected \n",
      "the average marks of students is greater then 71\n"
     ]
    }
   ],
   "source": [
    "print('''Task 1 e)\n",
    "Hence the null hypothesis is Rejected \n",
    "the average marks of students is greater then 71''')"
   ]
  },
  {
   "cell_type": "markdown",
   "id": "b7cdbcb3",
   "metadata": {},
   "source": [
    "## Task 1 Answers"
   ]
  },
  {
   "cell_type": "code",
   "execution_count": 34,
   "id": "092dcf63",
   "metadata": {},
   "outputs": [
    {
     "name": "stdout",
     "output_type": "stream",
     "text": [
      "Task 1 a)\n",
      "Null hypothesis average score of student is greater then 71.\n",
      "Alternate hypothesis average score of student is equal to or less then 71\n",
      "\n",
      "as the sample size is less then 30 n<30(t-test)\n",
      "Left side tail test\n",
      "\n",
      "H0: mean_s > 71\n",
      "Ha: mean_s <= 71\n",
      "\n",
      "Task 1 b)\n",
      "-t-critical : -2.0150483726691575\n",
      "\n",
      "Task 1 c)\n",
      "t-statistic: 1.443050156931714\n",
      "\n",
      "Task 1 d)\n",
      "Fail to reject the null hypothesis(t_critical < t_statistic)\n"
     ]
    },
    {
     "data": {
      "image/png": "[encoded data removed]",
      "text/plain": [
       "<Figure size 432x288 with 1 Axes>"
      ]
     },
     "metadata": {
      "needs_background": "light"
     },
     "output_type": "display_data"
    },
    {
     "name": "stdout",
     "output_type": "stream",
     "text": [
      "Task 1 e)\n",
      "Hence the null hypothesis is Rejected \n",
      "the average marks of students is greater then 71\n"
     ]
    }
   ],
   "source": [
    "print('''Task 1 a)\n",
    "Null hypothesis average score of student is greater then 71.\n",
    "Alternate hypothesis average score of student is equal to or less then 71\n",
    "\n",
    "as the sample size is less then 30 n<30(t-test)\n",
    "Left side tail test\n",
    "\n",
    "H0: mean_s > 71\n",
    "Ha: mean_s <= 71''')\n",
    "\n",
    "print('\\nTask 1 b)')\n",
    "print('-t-critical :',t_critical)\n",
    "\n",
    "print('\\nTask 1 c)')\n",
    "print('t-statistic:',t_statistic)\n",
    "\n",
    "print('\\nTask 1 d)')\n",
    "if t_statistic > t_critical:\n",
    "    print('Fail to reject the null hypothesis(t_critical < t_statistic)')\n",
    "else:\n",
    "    print('Reject the null hypothesis(t_critical > t_statistic)')\n",
    "\n",
    "lower=mean_s-4*sd_s\n",
    "upper=mean_s+4*sd_s\n",
    "plot_x=np.arange(-4,4,alpha)\n",
    "plot_y=t.pdf(plot_x,dof_s)\n",
    "plt.plot(plot_x,plot_y)\n",
    "plt.plot([t_critical,t_critical],[0.06,0],label='critical')\n",
    "plt.plot(t_statistic,0.05,'o-',label='t_statisctics')\n",
    "plt.legend()\n",
    "plt.show()\n",
    "\n",
    "# Task 1 e)\n",
    "print('''Task 1 e)\n",
    "Hence the null hypothesis is Rejected \n",
    "the average marks of students is greater then 71''')\n"
   ]
  },
  {
   "cell_type": "markdown",
   "id": "0cde0600",
   "metadata": {},
   "source": [
    "# Task 2"
   ]
  },
  {
   "cell_type": "markdown",
   "id": "57c177aa",
   "metadata": {},
   "source": [
    "##  Task 2 a)"
   ]
  },
  {
   "cell_type": "markdown",
   "id": "8ca05d85",
   "metadata": {},
   "source": [
    "Null hypothesis average fill of both machine is equal.                                                         \n",
    "Alternate hypothesis average fill of both is not machine is equal.\n",
    "                                                                                                               \n",
    "As the sample size is less then 30 n < 30(t-test)                                                               \n",
    "Two tail test                                                                                                  \n",
    "\n",
    "H0: mean_m1 = mean_m2 OR mean_m1 - mean_m2 = 0                                                                 \n",
    "Ha: mean_m1 != mean_m2 OR mean_m1 - mean_m2 != 0"
   ]
  },
  {
   "cell_type": "markdown",
   "id": "bf5c4172",
   "metadata": {},
   "source": [
    "### Statistical"
   ]
  },
  {
   "cell_type": "code",
   "execution_count": 35,
   "id": "dfa1ea00",
   "metadata": {},
   "outputs": [
    {
     "name": "stdout",
     "output_type": "stream",
     "text": [
      "Alpha : 0.01\n",
      "Mean for Machine1 : 4.029999999999999\n",
      "Mean for Machine2 : 4.001666666666667\n",
      "Standard deviaton for Machine 1 : 0.018257418583505634\n",
      "Standard deviaton for Machine 2 : 0.011690451944499872\n",
      "Variance for Machine 1 : 0.00033333333333333685\n",
      "Variance for Machine 2 : 0.00013666666666666084\n",
      "Size for Machine 1 : 4\n",
      "Size for Machine 2 : 6\n",
      "Degree of freedom for Machine 1 : 3\n",
      "Degree of freedom for Machine 2 : 5\n",
      "Degree of freedom : 8\n"
     ]
    }
   ],
   "source": [
    "machine_1=[4.05,4.01,4.04,4.02]\n",
    "machine_2=[4.02,3.99,4.01,3.99,4.00,4.00]\n",
    "\n",
    "alpha=0.01\n",
    "mean_1=st.mean(machine_1)\n",
    "mean_2=st.mean(machine_2)\n",
    "sd_1=st.stdev(machine_1)\n",
    "sd_2=st.stdev(machine_2)\n",
    "var_1=sd_1**2\n",
    "var_2=sd_2**2\n",
    "n_1=len(machine_1)\n",
    "n_2=len(machine_2)\n",
    "dof_1=n_1-1\n",
    "dof_2=n_2-1\n",
    "dof=n_1+n_2-2\n",
    "\n",
    "print('Alpha :',alpha)\n",
    "print('Mean for Machine1 :',mean_1)\n",
    "print('Mean for Machine2 :',mean_2)\n",
    "print('Standard deviaton for Machine 1 :',sd_1)\n",
    "print('Standard deviaton for Machine 2 :',sd_2)\n",
    "print('Variance for Machine 1 :',var_1)\n",
    "print('Variance for Machine 2 :',var_2)\n",
    "print('Size for Machine 1 :',n_1)\n",
    "print('Size for Machine 2 :',n_2)\n",
    "print('Degree of freedom for Machine 1 :',dof_1)\n",
    "print('Degree of freedom for Machine 2 :',dof_2)\n",
    "print('Degree of freedom :',dof)"
   ]
  },
  {
   "cell_type": "markdown",
   "id": "cebcff21",
   "metadata": {},
   "source": [
    "## Task 2 b)"
   ]
  },
  {
   "cell_type": "code",
   "execution_count": 36,
   "id": "78c44728",
   "metadata": {},
   "outputs": [
    {
     "name": "stdout",
     "output_type": "stream",
     "text": [
      "-t-critical: -3.3553873313333966\n",
      "+t-critical: 3.3553873313333957\n"
     ]
    }
   ],
   "source": [
    "# Task 2 b)\n",
    "t_critical_p=t.ppf(1-alpha/2,dof)\n",
    "t_critical_n=t.ppf(alpha/2,dof)\n",
    "print('-t-critical:',t_critical_n)\n",
    "print('+t-critical:',t_critical_p)"
   ]
  },
  {
   "cell_type": "markdown",
   "id": "32dfa042",
   "metadata": {},
   "source": [
    "## Task 2 c)"
   ]
  },
  {
   "cell_type": "code",
   "execution_count": 37,
   "id": "ac124875",
   "metadata": {},
   "outputs": [
    {
     "name": "stdout",
     "output_type": "stream",
     "text": [
      "t-statistics: 1.0698385183968115\n"
     ]
    }
   ],
   "source": [
    "# Task 2 c)\n",
    "signal=abs(mean_1-mean_2)\n",
    "noise=math.sqrt(var_1*dof_1+var_2*dof_2)*math.sqrt(1/n_1+1/n_2)\n",
    "t_statistic=signal/noise\n",
    "print('t-statistics:',t_statistic)"
   ]
  },
  {
   "cell_type": "markdown",
   "id": "b38b5d55",
   "metadata": {},
   "source": [
    "## Task 2 d)"
   ]
  },
  {
   "cell_type": "code",
   "execution_count": 38,
   "id": "869ce9cb",
   "metadata": {},
   "outputs": [
    {
     "name": "stdout",
     "output_type": "stream",
     "text": [
      "Failed to reject hypothesis (t_critical_n < t_statistic < t_critical_p)\n"
     ]
    },
    {
     "data": {
      "image/png": "[encoded data removed]",
      "text/plain": [
       "<Figure size 432x288 with 1 Axes>"
      ]
     },
     "metadata": {
      "needs_background": "light"
     },
     "output_type": "display_data"
    },
    {
     "data": {
      "image/png": "[encoded data removed]",
      "text/plain": [
       "<Figure size 432x288 with 1 Axes>"
      ]
     },
     "metadata": {
      "needs_background": "light"
     },
     "output_type": "display_data"
    }
   ],
   "source": [
    "# Task 2 d)\n",
    "if t_critical_n < t_statistic < t_critical_p:\n",
    "    print('Failed to reject hypothesis (t_critical_n < t_statistic < t_critical_p)')\n",
    "else:\n",
    "    print('Reject hypothesis (t_critical_n < t_statistic < t_critical_p)')\n",
    "    \n",
    "lower_1=mean_1-4*sd_1\n",
    "upper_1=mean_1+4*sd_1\n",
    "lower_2=mean_2-4*sd_2\n",
    "upper_2=mean_2+4*sd_2\n",
    "plot_x=np.arange(-4,4,alpha/2)\n",
    "plot_y=t.pdf(plot_x,dof)\n",
    "plt.plot(plot_x,plot_y)\n",
    "plt.plot([t_critical_n,t_critical_n],[alpha,0],'red',label='critical')\n",
    "plt.plot([t_critical_p,t_critical_p],[alpha,0],'red')\n",
    "plt.plot(t_statistic,alpha,'s-',label='statisctics')\n",
    "plt.legend()\n",
    "plt.show()\n",
    "plot_x1=np.linspace(lower_1,upper_1,50)\n",
    "plot_y1=norm.pdf(plot_x1,mean_1,sd_1)\n",
    "plot_x2=np.linspace(lower_2,upper_2,50)\n",
    "plot_y2=norm.pdf(plot_x2,mean_2,sd_2)\n",
    "plt.plot(plot_x1,plot_y1,label='machine-1')\n",
    "plt.plot(plot_x2,plot_y2,label='machine-2')\n",
    "plt.legend()\n",
    "plt.show()\n"
   ]
  },
  {
   "cell_type": "markdown",
   "id": "e4cb2fb3",
   "metadata": {},
   "source": [
    "## Task 2 e)"
   ]
  },
  {
   "cell_type": "code",
   "execution_count": 39,
   "id": "eab7872b",
   "metadata": {},
   "outputs": [
    {
     "name": "stdout",
     "output_type": "stream",
     "text": [
      "Hence the null hypothesis is Accepted\n",
      "The average fill of both machine is equal\n"
     ]
    }
   ],
   "source": [
    "# Task 2 e)\n",
    "print('''Hence the null hypothesis is Accepted\n",
    "The average fill of both machine is equal''')"
   ]
  },
  {
   "cell_type": "markdown",
   "id": "b1d287da",
   "metadata": {},
   "source": [
    "## Task 2 Answer"
   ]
  },
  {
   "cell_type": "code",
   "execution_count": 40,
   "id": "af1f6bb5",
   "metadata": {},
   "outputs": [
    {
     "name": "stdout",
     "output_type": "stream",
     "text": [
      "Task 2 a)\n",
      "Null hypothesis average fill of both machine is equal.\n",
      "Alternate hypothesis average fill of both is not machine is equal.\n",
      "\n",
      "as the sample size is less then 30 n<30(t-test)\n",
      "Two tail test\n",
      "\n",
      "H0: mean_m1 = mean_m2 OR mean_m1 - mean_m2 = 0\n",
      "Ha: mean_m1 != mean_m2 OR mean_m1 - mean_m2 != 0\n",
      "\n",
      "\n",
      "Task 2 b)\n",
      "-t-critical: -3.3553873313333966\n",
      "+t-critical: 3.3553873313333957\n",
      "\n",
      "Task 2 c)\n",
      "t-statistics: 1.0698385183968115\n",
      "\n",
      "Task 2 d)\n",
      "Failed to reject hypothesis (t_critical_n < t_statistic < t_critical_p)\n"
     ]
    },
    {
     "data": {
      "image/png": "[encoded data removed]",
      "text/plain": [
       "<Figure size 432x288 with 1 Axes>"
      ]
     },
     "metadata": {
      "needs_background": "light"
     },
     "output_type": "display_data"
    },
    {
     "data": {
      "image/png": "[encoded data removed]",
      "text/plain": [
       "<Figure size 432x288 with 1 Axes>"
      ]
     },
     "metadata": {
      "needs_background": "light"
     },
     "output_type": "display_data"
    },
    {
     "name": "stdout",
     "output_type": "stream",
     "text": [
      "Task 2 e)\n",
      "Hence the null hypothesis is Accepted\n",
      "The average fill of both machine is equal\n"
     ]
    }
   ],
   "source": [
    "print('''Task 2 a)\n",
    "Null hypothesis average fill of both machine is equal.\n",
    "Alternate hypothesis average fill of both is not machine is equal.\n",
    "\n",
    "as the sample size is less then 30 n<30(t-test)\n",
    "Two tail test\n",
    "\n",
    "H0: mean_m1 = mean_m2 OR mean_m1 - mean_m2 = 0\n",
    "Ha: mean_m1 != mean_m2 OR mean_m1 - mean_m2 != 0\n",
    "''')\n",
    "\n",
    "# Task 2 b)\n",
    "print('\\nTask 2 b)')\n",
    "print('-t-critical:',t_critical_n)\n",
    "print('+t-critical:',t_critical_p)\n",
    "\n",
    "# Task 2 c)\n",
    "print('\\nTask 2 c)')\n",
    "print('t-statistics:',t_statistic)\n",
    "\n",
    "# Task 2 d)\n",
    "print('\\nTask 2 d)')\n",
    "if t_critical_n < t_statistic < t_critical_p:\n",
    "    print('Failed to reject hypothesis (t_critical_n < t_statistic < t_critical_p)')\n",
    "else:\n",
    "    print('Reject hypothesis (t_critical_n < t_statistic < t_critical_p)')\n",
    "    \n",
    "lower_1=mean_1-4*sd_1\n",
    "upper_1=mean_1+4*sd_1\n",
    "lower_2=mean_2-4*sd_2\n",
    "upper_2=mean_2+4*sd_2\n",
    "plot_x=np.arange(-4,4,alpha/2)\n",
    "plot_y=t.pdf(plot_x,dof)\n",
    "plt.plot(plot_x,plot_y)\n",
    "plt.plot([t_critical_n,t_critical_n],[alpha,0],'red',label='critical')\n",
    "plt.plot([t_critical_p,t_critical_p],[alpha,0],'red')\n",
    "plt.plot(t_statistic,alpha,'s-',label='statisctics')\n",
    "plt.legend()\n",
    "plt.show()\n",
    "plot_x1=np.linspace(lower_1,upper_1,50)\n",
    "plot_y1=norm.pdf(plot_x1,mean_1,sd_1)\n",
    "plot_x2=np.linspace(lower_2,upper_2,50)\n",
    "plot_y2=norm.pdf(plot_x2,mean_2,sd_2)\n",
    "plt.plot(plot_x1,plot_y1,label='machine-1')\n",
    "plt.plot(plot_x2,plot_y2,label='machine-2')\n",
    "plt.legend()\n",
    "plt.show()\n",
    "\n",
    "# Task 2 e)\n",
    "print('''Task 2 e)\n",
    "Hence the null hypothesis is Accepted\n",
    "The average fill of both machine is equal''')"
   ]
  },
  {
   "cell_type": "markdown",
   "id": "a1aa4b85",
   "metadata": {},
   "source": [
    "# Task 3"
   ]
  },
  {
   "cell_type": "markdown",
   "id": "942d3fff",
   "metadata": {},
   "source": [
    "## Task 3 a)"
   ]
  },
  {
   "cell_type": "markdown",
   "id": "b5781dce",
   "metadata": {},
   "source": [
    "Null hypothesis the average fill of four machine is equal.                                                     \n",
    "Alternate hypothesis at least one of the average fill of one machine is different from others.\n",
    "                                                                                                               \n",
    "F-Test from ANOVA                                                                                              \n",
    "                                                                                                               \n",
    "H0: the average fill of four machine is equal.                                                                 \n",
    "Ha: at least one of the average fill of one machine is different from others."
   ]
  },
  {
   "cell_type": "code",
   "execution_count": 41,
   "id": "df4c04bc",
   "metadata": {},
   "outputs": [],
   "source": [
    "machine_3=[4.00,3.97,3.95,3.98,3.97]\n",
    "machine_4=[4.01,4.00,3.99,4.02]"
   ]
  },
  {
   "cell_type": "markdown",
   "id": "5b157e2b",
   "metadata": {},
   "source": [
    " Calculate the total fill all Machine"
   ]
  },
  {
   "cell_type": "code",
   "execution_count": 42,
   "id": "56f91c3f",
   "metadata": {},
   "outputs": [
    {
     "name": "stdout",
     "output_type": "stream",
     "text": [
      "Total fill in machine1 = 16.119999999999997\n",
      "Total fill in machine2 = 24.009999999999998\n",
      "Total fill in machine3 = 19.87\n",
      "Total fill in machine4 = 16.02\n",
      "Total fill in all 4 machine = 76.02\n"
     ]
    }
   ],
   "source": [
    "T1=sum(machine_1)\n",
    "T2=sum(machine_2)\n",
    "T3=sum(machine_3)\n",
    "T4=sum(machine_4)\n",
    "T=T1+T2+T3+T4\n",
    "print('Total fill in machine1 =',T1 )\n",
    "print('Total fill in machine2 =',T2 )\n",
    "print('Total fill in machine3 =',T3 )\n",
    "print('Total fill in machine4 =',T4 )\n",
    "print('Total fill in all 4 machine =',T )"
   ]
  },
  {
   "cell_type": "markdown",
   "id": "aef098ac",
   "metadata": {},
   "source": [
    "Machine fill size"
   ]
  },
  {
   "cell_type": "code",
   "execution_count": 43,
   "id": "b1d8f125",
   "metadata": {},
   "outputs": [
    {
     "name": "stdout",
     "output_type": "stream",
     "text": [
      "Size for Machine 1 : 4\n",
      "Size for Machine 2 : 6\n",
      "Size for Machine 3 : 5\n",
      "Size for Machine 4 : 4\n",
      "Size for all machine = 19\n"
     ]
    }
   ],
   "source": [
    "n_3=len(machine_3)\n",
    "n_4=len(machine_4)\n",
    "n=n_1+n_2+n_3+n_4\n",
    "print('Size for Machine 1 :',n_1)\n",
    "print('Size for Machine 2 :',n_2)\n",
    "print('Size for Machine 3 :',n_3)\n",
    "print('Size for Machine 4 :',n_4)\n",
    "print('Size for all machine =',n)"
   ]
  },
  {
   "cell_type": "markdown",
   "id": "5bebd354",
   "metadata": {},
   "source": [
    "Calculate machiine mean"
   ]
  },
  {
   "cell_type": "code",
   "execution_count": 44,
   "id": "b85542f8",
   "metadata": {},
   "outputs": [
    {
     "name": "stdout",
     "output_type": "stream",
     "text": [
      "Size for Machine 1 : 4.029999999999999\n",
      "Size for Machine 2 : 4.001666666666667\n",
      "Size for Machine 3 : 3.974\n",
      "Size for Machine 4 : 4.005\n",
      "Size for all machine = 4.002666666666666\n"
     ]
    }
   ],
   "source": [
    "mean_3=st.mean(machine_3)\n",
    "mean_4=st.mean(machine_4)\n",
    "mean=(mean_1+mean_2+mean_3+mean_4)/4\n",
    "print('Size for Machine 1 :',mean_1)\n",
    "print('Size for Machine 2 :',mean_2)\n",
    "print('Size for Machine 3 :',mean_3)\n",
    "print('Size for Machine 4 :',mean_4)\n",
    "print('Size for all machine =',mean)"
   ]
  },
  {
   "cell_type": "markdown",
   "id": "67fb5bfc",
   "metadata": {},
   "source": [
    "Calculate the sum of squares columns (SSC)"
   ]
  },
  {
   "cell_type": "code",
   "execution_count": 45,
   "id": "d91259c5",
   "metadata": {},
   "outputs": [
    {
     "name": "stdout",
     "output_type": "stream",
     "text": [
      "SSC = 0.007125111111110891\n"
     ]
    }
   ],
   "source": [
    "SSC=n_1*(mean_1-mean)**2 + n_2*(mean_2-mean)**2 + n_3*(mean_3-mean)**2 + n_4*(mean_4-mean)**2\n",
    "print(\"SSC =\",SSC)"
   ]
  },
  {
   "cell_type": "markdown",
   "id": "842dd02f",
   "metadata": {},
   "source": [
    "Calculate the sum of squares errors (SSE)"
   ]
  },
  {
   "cell_type": "code",
   "execution_count": 46,
   "id": "c8e324ae",
   "metadata": {},
   "outputs": [
    {
     "name": "stdout",
     "output_type": "stream",
     "text": [
      "SSE = 0.0035033333333332815\n"
     ]
    }
   ],
   "source": [
    "SSE=0\n",
    "for i in machine_1:\n",
    "    SSE=SSE+(i-mean_1)**2\n",
    "    \n",
    "for i in machine_2:\n",
    "    SSE=SSE+(i-mean_2)**2\n",
    "    \n",
    "for i in machine_3:\n",
    "    SSE=SSE+(i-mean_3)**2\n",
    "\n",
    "for i in machine_4:\n",
    "    SSE=SSE+(i-mean_4)**2\n",
    "\n",
    "print(\"SSE =\",SSE)"
   ]
  },
  {
   "cell_type": "markdown",
   "id": "94cba36b",
   "metadata": {},
   "source": [
    "Calculate the total sum of squares (SST)"
   ]
  },
  {
   "cell_type": "code",
   "execution_count": 47,
   "id": "4407e158",
   "metadata": {},
   "outputs": [
    {
     "name": "stdout",
     "output_type": "stream",
     "text": [
      "SST = 0.010628444444444302\n"
     ]
    }
   ],
   "source": [
    "SST=0\n",
    "for i in machine_1:\n",
    "    SST=SST+(i-mean)**2\n",
    "    \n",
    "for i in machine_2:\n",
    "    SST=SST+(i-mean)**2\n",
    "    \n",
    "for i in machine_3:\n",
    "    SST=SST+(i-mean)**2\n",
    "\n",
    "for i in machine_4:\n",
    "    SST=SST+(i-mean)**2\n",
    "    \n",
    "print(\"SST =\",SST)"
   ]
  },
  {
   "cell_type": "markdown",
   "id": "9ed4e0eb",
   "metadata": {},
   "source": [
    "Calculate column, error, and the total degree of freedoms (dfc,dfe,dft)"
   ]
  },
  {
   "cell_type": "code",
   "execution_count": 48,
   "id": "4ef52a17",
   "metadata": {},
   "outputs": [
    {
     "name": "stdout",
     "output_type": "stream",
     "text": [
      "dfc = 3\n",
      "dfe = 15\n",
      "dft = 18\n"
     ]
    }
   ],
   "source": [
    "dfc= 4-1\n",
    "dfe= n-4\n",
    "dft= n-1\n",
    "print('dfc =',dfc)\n",
    "print('dfe =',dfe)\n",
    "print('dft =',dft)"
   ]
  },
  {
   "cell_type": "markdown",
   "id": "f7c3dcb1",
   "metadata": {},
   "source": [
    "Calculate MSC"
   ]
  },
  {
   "cell_type": "code",
   "execution_count": 49,
   "id": "75b91ee8",
   "metadata": {},
   "outputs": [
    {
     "name": "stdout",
     "output_type": "stream",
     "text": [
      "MSC = 0.0023750370370369638\n"
     ]
    }
   ],
   "source": [
    "MSC=SSC/dfc\n",
    "print('MSC =',MSC)"
   ]
  },
  {
   "cell_type": "markdown",
   "id": "3861e2ae",
   "metadata": {},
   "source": [
    "Calculate MSE"
   ]
  },
  {
   "cell_type": "code",
   "execution_count": 50,
   "id": "b94df899",
   "metadata": {},
   "outputs": [
    {
     "name": "stdout",
     "output_type": "stream",
     "text": [
      "MSE = 0.0002335555555555521\n"
     ]
    }
   ],
   "source": [
    "MSE=SSE/dfe\n",
    "print('MSE =',MSE)"
   ]
  },
  {
   "cell_type": "markdown",
   "id": "3abaa6ce",
   "metadata": {},
   "source": [
    "## Task 3 b)"
   ]
  },
  {
   "cell_type": "code",
   "execution_count": 72,
   "id": "36d615be",
   "metadata": {},
   "outputs": [
    {
     "name": "stdout",
     "output_type": "stream",
     "text": [
      "+F-critical = 5.416964857818421\n",
      "-F-critical = 0.0372131864038654\n"
     ]
    }
   ],
   "source": [
    "f_critical_p=f.ppf(1-alpha, dfc, dfe)\n",
    "print('+F-critical =',f_critical_p)\n",
    "f_critical_n=f.ppf(alpha, dfc, dfe)\n",
    "print('-F-critical =',f_critical_n)"
   ]
  },
  {
   "cell_type": "markdown",
   "id": "44a6f2ad",
   "metadata": {},
   "source": [
    "## Task 3 c)"
   ]
  },
  {
   "cell_type": "code",
   "execution_count": 52,
   "id": "8317caea",
   "metadata": {},
   "outputs": [
    {
     "name": "stdout",
     "output_type": "stream",
     "text": [
      "F-statistic = 10.169045353631299\n"
     ]
    }
   ],
   "source": [
    "f_statistic=MSC/MSE\n",
    "print('F-statistic =',f_statistic)"
   ]
  },
  {
   "cell_type": "markdown",
   "id": "1bff5688",
   "metadata": {},
   "source": [
    "## Task 3 d)"
   ]
  },
  {
   "cell_type": "markdown",
   "id": "b5a4ce00",
   "metadata": {},
   "source": [
    " Box Plot"
   ]
  },
  {
   "cell_type": "code",
   "execution_count": 53,
   "id": "06bc19a8",
   "metadata": {},
   "outputs": [
    {
     "data": {
      "image/png": "[encoded data removed]",
      "text/plain": [
       "<Figure size 360x360 with 1 Axes>"
      ]
     },
     "metadata": {
      "needs_background": "light"
     },
     "output_type": "display_data"
    }
   ],
   "source": [
    "fig = plt.figure(figsize =(5, 5))\n",
    "ax = fig.add_axes([0, 0, 1, 1])\n",
    "data=[machine_1, machine_2, machine_3, machine_4]\n",
    "# Creating plot\n",
    "plt.boxplot(data,vert = 1)\n",
    "ax.set_xticklabels(['machine-1','machine-2','machine-3','machine-4'])\n",
    "# show plot\n",
    "plt.show()"
   ]
  },
  {
   "cell_type": "code",
   "execution_count": 74,
   "id": "9d4b7ebb",
   "metadata": {},
   "outputs": [
    {
     "data": {
      "image/png": "[encoded data removed]",
      "text/plain": [
       "<Figure size 432x288 with 1 Axes>"
      ]
     },
     "metadata": {
      "needs_background": "light"
     },
     "output_type": "display_data"
    }
   ],
   "source": [
    "rv1 = f(dfn=dfc, dfd=dfe, loc=0, scale=1)\n",
    "x = np.linspace(rv1.ppf(alpha), rv1.ppf(1-alpha), 100)\n",
    "y = rv1.pdf(x) \n",
    "plt.xlim(0,12)\n",
    "plt.plot(x,y, 'b-')\n",
    "plt.plot([f_critical_p,f_critical_p],[0.005,0],'red',label='f-critical')\n",
    "plt.plot(f_statistic,0.005,'o-',label='f-statistic')\n",
    "plt.legend()\n",
    "plt.show()"
   ]
  },
  {
   "cell_type": "code",
   "execution_count": 77,
   "id": "8c16da1f",
   "metadata": {},
   "outputs": [
    {
     "data": {
      "image/png": "[encoded data removed]",
      "text/plain": [
       "<Figure size 432x288 with 1 Axes>"
      ]
     },
     "metadata": {
      "needs_background": "light"
     },
     "output_type": "display_data"
    }
   ],
   "source": [
    "rv1 = f(dfn=dfc, dfd=dfe, loc=0, scale=1)\n",
    "x = np.linspace(0,7, 100)\n",
    "y = rv1.pdf(x) \n",
    "plt.xlim(0,12)\n",
    "plt.plot(x,y, 'b-')\n",
    "plt.plot([f_critical_n,f_critical_n],[0.2,0],'red',label='-f-critical')\n",
    "plt.plot([f_critical_p,f_critical_p],[0.005,0],'red',label='+f-critical')\n",
    "plt.plot(f_statistic,0.005,'o-',label='f-statistic')\n",
    "plt.legend()\n",
    "plt.show()"
   ]
  },
  {
   "cell_type": "code",
   "execution_count": 55,
   "id": "2aa57bf5",
   "metadata": {},
   "outputs": [
    {
     "name": "stdout",
     "output_type": "stream",
     "text": [
      "Rejection of Null Hypothesis(H0)(f_statistic > f_critical)\n"
     ]
    }
   ],
   "source": [
    "if f_statistic > f_critical :\n",
    "    print('Rejection of Null Hypothesis(H0)(f_statistic > f_critical)')\n",
    "else:\n",
    "    print('Fail to reject Null Hypothesis(H0)(f_statistic < f_critical)')"
   ]
  },
  {
   "cell_type": "markdown",
   "id": "36f8219a",
   "metadata": {},
   "source": [
    "## Task 3 e)"
   ]
  },
  {
   "cell_type": "code",
   "execution_count": 56,
   "id": "f5325f45",
   "metadata": {},
   "outputs": [
    {
     "name": "stdout",
     "output_type": "stream",
     "text": [
      "Hence the null hypothesis is Rejected\n",
      "the average fill of all machines is not same.\n"
     ]
    }
   ],
   "source": [
    "print('''Hence the null hypothesis is Rejected\n",
    "the average fill of all machines is not same.''')"
   ]
  },
  {
   "cell_type": "markdown",
   "id": "98910027",
   "metadata": {},
   "source": [
    "## Task 3 Answer"
   ]
  },
  {
   "cell_type": "code",
   "execution_count": 73,
   "id": "e009261a",
   "metadata": {},
   "outputs": [
    {
     "name": "stdout",
     "output_type": "stream",
     "text": [
      "Task 3 a)\n",
      "\n",
      "Null hypothesis the average fill of four machine is equal.\n",
      "Alternate hypothesis at least one of the average fill of one machine is different from others.\n",
      "\n",
      "F-Test from ANOVA\n",
      "\n",
      "H0: the average fill of four machine is equal.\n",
      "Ha: at least one of the average fill of one machine is different from others.\n",
      "\n",
      "Task 3 b)\n",
      "F-critical = 5.416964857818421\n",
      "\n",
      "Task 3 c)\n",
      "F-statistic = 10.169045353631299\n",
      "\n",
      "Task 3 d)\n"
     ]
    },
    {
     "data": {
      "image/png": "[encoded data removed]",
      "text/plain": [
       "<Figure size 360x360 with 1 Axes>"
      ]
     },
     "metadata": {
      "needs_background": "light"
     },
     "output_type": "display_data"
    },
    {
     "data": {
      "image/png": "[encoded data removed]",
      "text/plain": [
       "<Figure size 432x288 with 1 Axes>"
      ]
     },
     "metadata": {
      "needs_background": "light"
     },
     "output_type": "display_data"
    },
    {
     "name": "stdout",
     "output_type": "stream",
     "text": [
      "Rejection of Null Hypothesis(H0)(f_statistic > f_critical)\n",
      "\n",
      "Task 3 e)\n",
      "Hence the null hypothesis is Rejected\n",
      "the average fill of all machines is not same.\n"
     ]
    }
   ],
   "source": [
    "print('''Task 3 a)\n",
    "\n",
    "Null hypothesis the average fill of four machine is equal.\n",
    "Alternate hypothesis at least one of the average fill of one machine is different from others.\n",
    "\n",
    "F-Test from ANOVA\n",
    "\n",
    "H0: the average fill of four machine is equal.\n",
    "Ha: at least one of the average fill of one machine is different from others.''')\n",
    "print('\\nTask 3 b)')\n",
    "print('F-critical =',f_critical)\n",
    "print('\\nTask 3 c)')\n",
    "print('F-statistic =',f_statistic)\n",
    "print('\\nTask 3 d)')\n",
    "fig = plt.figure(figsize =(5, 5))\n",
    "ax = fig.add_axes([0, 0, 1, 1])\n",
    "data=[machine_1, machine_2, machine_3, machine_4]\n",
    "# Creating plot\n",
    "plt.boxplot(data,vert = 0)\n",
    "ax.set_yticklabels(['machine-1', 'machine-2','machine-3','machine-4'])\n",
    "# show plot\n",
    "plt.show()\n",
    "\n",
    "rv1 = f(dfn=dfc, dfd=dfe, loc=0, scale=1)\n",
    "x = np.linspace(rv1.ppf(alpha), rv1.ppf(1-alpha), 100)\n",
    "y = rv1.pdf(x) \n",
    "plt.xlim(0,11)\n",
    "plt.plot(x,y, '--b')\n",
    "plt.plot([f_critical_p,f_critical_p],[0.005,0],'red',label='f-critical')\n",
    "plt.plot(f_statistic,0.005,'o-',label='f-statistic')\n",
    "plt.legend()\n",
    "plt.show()\n",
    "\n",
    "if f_statistic > f_critical :\n",
    "    print('Rejection of Null Hypothesis(H0)(f_statistic > f_critical)')\n",
    "else:\n",
    "    print('Fail to reject Null Hypothesis(H0)(f_statistic < f_critical)')\n",
    "    \n",
    "print('''\\nTask 3 e)''')\n",
    "print('''Hence the null hypothesis is Rejected\n",
    "the average fill of all machines is not same.''')\n"
   ]
  },
  {
   "cell_type": "code",
   "execution_count": null,
   "id": "b5e91f5c",
   "metadata": {},
   "outputs": [],
   "source": []
  }
 ],
 "metadata": {
  "kernelspec": {
   "display_name": "Python 3 (ipykernel)",
   "language": "python",
   "name": "python3"
  },
  "language_info": {
   "codemirror_mode": {
    "name": "ipython",
    "version": 3
   },
   "file_extension": ".py",
   "mimetype": "text/x-python",
   "name": "python",
   "nbconvert_exporter": "python",
   "pygments_lexer": "ipython3",
   "version": "3.9.7"
  }
 },
 "nbformat": 4,
 "nbformat_minor": 5
}
