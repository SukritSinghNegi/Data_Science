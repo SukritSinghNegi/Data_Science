{
 "cells": [
  {
   "cell_type": "markdown",
   "id": "85936506",
   "metadata": {},
   "source": [
    "# Creating and Manipulation 2D Arrays"
   ]
  },
  {
   "cell_type": "code",
   "execution_count": 4,
   "id": "4009aacc",
   "metadata": {},
   "outputs": [],
   "source": [
    "import numpy as np\n",
    "import pandas as pd"
   ]
  },
  {
   "cell_type": "code",
   "execution_count": 6,
   "id": "9eb9295b",
   "metadata": {},
   "outputs": [
    {
     "name": "stdout",
     "output_type": "stream",
     "text": [
      "     Serial No.  GRE Score  TOEFL Score  University Rating  SOP  LOR   CGPA  \\\n",
      "0             1        337          118                  4  4.5   4.5  9.65   \n",
      "1             2        324          107                  4  4.0   4.5  8.87   \n",
      "2             3        316          104                  3  3.0   3.5  8.00   \n",
      "3             4        322          110                  3  3.5   2.5  8.67   \n",
      "4             5        314          103                  2  2.0   3.0  8.21   \n",
      "..          ...        ...          ...                ...  ...   ...   ...   \n",
      "395         396        324          110                  3  3.5   3.5  9.04   \n",
      "396         397        325          107                  3  3.0   3.5  9.11   \n",
      "397         398        330          116                  4  5.0   4.5  9.45   \n",
      "398         399        312          103                  3  3.5   4.0  8.78   \n",
      "399         400        333          117                  4  5.0   4.0  9.66   \n",
      "\n",
      "     Research  Chance of Admit   \n",
      "0           1              0.92  \n",
      "1           1              0.76  \n",
      "2           1              0.72  \n",
      "3           1              0.80  \n",
      "4           0              0.65  \n",
      "..        ...               ...  \n",
      "395         1              0.82  \n",
      "396         1              0.84  \n",
      "397         1              0.91  \n",
      "398         0              0.67  \n",
      "399         1              0.95  \n",
      "\n",
      "[400 rows x 9 columns]\n"
     ]
    }
   ],
   "source": [
    "df=pd.read_csv('DS1_C4_S2_Admission_Predict_Practice.csv')\n",
    "print(df)"
   ]
  },
  {
   "cell_type": "code",
   "execution_count": 2,
   "id": "825912d5",
   "metadata": {},
   "outputs": [
    {
     "name": "stdout",
     "output_type": "stream",
     "text": [
      "[[  1.   337.   118.   ...   9.65   1.     0.92]\n",
      " [  2.   324.   107.   ...   8.87   1.     0.76]\n",
      " [  3.   316.   104.   ...   8.     1.     0.72]\n",
      " ...\n",
      " [398.   330.   116.   ...   9.45   1.     0.91]\n",
      " [399.   312.   103.   ...   8.78   0.     0.67]\n",
      " [400.   333.   117.   ...   9.66   1.     0.95]]\n"
     ]
    }
   ],
   "source": [
    "from numpy import genfromtxt\n",
    "adm=genfromtxt('DS1_C4_S2_Admission_Predict_Practice.csv',delimiter=',',skip_header=1) \n",
    "print(adm)"
   ]
  },
  {
   "cell_type": "code",
   "execution_count": 5,
   "id": "da97ae59",
   "metadata": {},
   "outputs": [
    {
     "name": "stdout",
     "output_type": "stream",
     "text": [
      "Number of student with GRE score greater then 320:  163\n"
     ]
    }
   ],
   "source": [
    "# Task 1\n",
    "ind=np.where(adm[:,1]>320)\n",
    "print('Number of student with GRE score greater then 320: ',np.size(ind))\n"
   ]
  },
  {
   "cell_type": "code",
   "execution_count": 6,
   "id": "e228e073",
   "metadata": {},
   "outputs": [
    {
     "name": "stdout",
     "output_type": "stream",
     "text": [
      "The admission possibility of those students TOEFL scores greater than 110\n",
      " [[0.92 0.9  0.84 0.78 0.7  0.94 0.95 0.97 0.94 0.91 0.9  0.94 0.87 0.91\n",
      "  0.86 0.89 0.78 0.78 0.72 0.52 0.55 0.61 0.78 0.94 0.96 0.93 0.72 0.74\n",
      "  0.96 0.92 0.94 0.86 0.9  0.79 0.74 0.87 0.91 0.93 0.94 0.94 0.85 0.78\n",
      "  0.84 0.92 0.96 0.79 0.89 0.8  0.9  0.92 0.97 0.8  0.81 0.83 0.96 0.93\n",
      "  0.94 0.86 0.81 0.89 0.89 0.87 0.85 0.9  0.89 0.93 0.93 0.88 0.9  0.86\n",
      "  0.94 0.97 0.97 0.95 0.96 0.94 0.93 0.91 0.76 0.71 0.82 0.91 0.88 0.85\n",
      "  0.86 0.7  0.76 0.77 0.93 0.85 0.9  0.7  0.83 0.89 0.8  0.94 0.93 0.92\n",
      "  0.89 0.86 0.9  0.71 0.8  0.79 0.8  0.81 0.8  0.8  0.83 0.94 0.93 0.91\n",
      "  0.86 0.95 0.96 0.96 0.84 0.89 0.91 0.95]]\n"
     ]
    }
   ],
   "source": [
    "# Task 2\n",
    "ind1=np.where(adm[:,2]>110)\n",
    "print('The admission possibility of those students TOEFL scores greater than 110\\n',adm[ind1,8])"
   ]
  },
  {
   "cell_type": "code",
   "execution_count": 16,
   "id": "b301c9ba",
   "metadata": {},
   "outputs": [
    {
     "name": "stdout",
     "output_type": "stream",
     "text": [
      "The top 10 GRE scores  [340. 340. 340. 340. 340. 340. 340. 340. 339. 339.]\n",
      "The top 10 TOEFL scores  [120. 120. 120. 120. 120. 120. 120. 120.]\n",
      "\n",
      "Data of Top 10 GRE student with serial details:\n",
      " [[[ 26.   340.   120.     5.     4.5    4.5    9.6    1.     0.94]\n",
      "  [ 34.   340.   114.     5.     4.     4.     9.6    1.     0.9 ]\n",
      "  [ 48.   339.   119.     5.     4.5    4.     9.7    0.     0.89]\n",
      "  [ 82.   340.   120.     4.     5.     5.     9.5    1.     0.96]\n",
      "  [ 85.   340.   115.     5.     4.5    4.5    9.45   1.     0.94]\n",
      "  [131.   339.   114.     5.     4.     4.5    9.76   1.     0.96]\n",
      "  [144.   340.   120.     4.     4.5    4.     9.92   1.     0.97]\n",
      "  [149.   339.   116.     4.     4.     3.5    9.8    1.     0.96]\n",
      "  [203.   340.   120.     5.     4.5    4.5    9.91   1.     0.97]\n",
      "  [285.   340.   112.     4.     5.     4.5    9.66   1.     0.94]\n",
      "  [385.   340.   113.     4.     5.     5.     9.74   1.     0.96]]]\n",
      "\n",
      "Data of Top 8 TOEFL student with serial details:\n",
      " [[[ 26.   340.   120.     5.     4.5    4.5    9.6    1.     0.94]\n",
      "  [ 82.   340.   120.     4.     5.     5.     9.5    1.     0.96]\n",
      "  [ 98.   331.   120.     3.     4.     4.     8.96   1.     0.86]\n",
      "  [144.   340.   120.     4.     4.5    4.     9.92   1.     0.97]\n",
      "  [203.   340.   120.     5.     4.5    4.5    9.91   1.     0.97]\n",
      "  [204.   334.   120.     5.     4.     5.     9.87   1.     0.97]\n",
      "  [213.   338.   120.     4.     5.     5.     9.66   1.     0.95]\n",
      "  [298.   320.   120.     3.     4.     4.5    9.11   0.     0.86]]]\n",
      "\n",
      "Data of Top 10 GRE student serial details: [[ 26.  34.  48.  82.  85. 131. 144. 149. 203. 285. 385.]]\n",
      "\n",
      "Data of Top 8 TOEFL student serial details: [[ 26.  82.  98. 144. 203. 204. 213. 298.]]\n"
     ]
    }
   ],
   "source": [
    "# Task 3\n",
    "sort_gre=np.sort(adm[:,1])[-1:-11:-1]\n",
    "print('The top 10 GRE scores ',sort_gre.T) # least of top 10 GRE score is 339\n",
    "sort_toefl=np.sort(adm[:,2])[-1:-9:-1]\n",
    "print('The top 10 TOEFL scores ',sort_toefl.T) # Top 8 TOEFL scores are 120\n",
    "gre_ind=np.where(adm[:,1]>338)# indexs for the top 10 GRE scores\n",
    "toefl_ind=np.where(adm[:,2]==120)# indexs for the top 8 TOEFL scores\n",
    "print('\\nData of Top 10 GRE student with serial details:\\n',adm[gre_ind,:])\n",
    "print('\\nData of Top 8 TOEFL student with serial details:\\n',adm[toefl_ind,:])\n",
    "print('\\nData of Top 10 GRE student serial details:',adm[gre_ind,0])\n",
    "print('\\nData of Top 8 TOEFL student serial details:',adm[toefl_ind,0])"
   ]
  },
  {
   "cell_type": "code",
   "execution_count": 26,
   "id": "76c38876",
   "metadata": {},
   "outputs": [
    {
     "name": "stdout",
     "output_type": "stream",
     "text": [
      "The Serial Number of the students:\n",
      "  [[113. 210. 358.]]\n",
      "The TOEFL Score of the students:\n",
      "  [[107. 104. 104.]]\n",
      "\n",
      "The Serial Number and TOEFL Score of the students:\n",
      "  [[113. 107.]\n",
      " [210. 104.]\n",
      " [358. 104.]]\n"
     ]
    }
   ],
   "source": [
    "# Task 4\n",
    "off_ind=np.where((adm[:,1]>300) & (adm[:,1]<305) & (adm[:,4]==3.5) & (adm[:,7]==1))\n",
    "adm1=adm[off_ind,0]\n",
    "adm2=adm[off_ind,2]\n",
    "print('The Serial Number of the students:\\n ',adm1)\n",
    "print('The TOEFL Score of the students:\\n ',adm2)\n",
    "adm3=np.append(adm1,adm2,axis=0)   \n",
    "print('\\nThe Serial Number and TOEFL Score of the students:\\n ',adm3.T)"
   ]
  },
  {
   "cell_type": "code",
   "execution_count": 33,
   "id": "cf9c25c7",
   "metadata": {},
   "outputs": [
    {
     "name": "stdout",
     "output_type": "stream",
     "text": [
      "The scholarship amount list:\n",
      " [5671 9009 8884 7094 6469 9339 8838 9305 7682 9411 7062 9565 7599 7463\n",
      " 8158 9545 9782 6616 8753 7701 9571 5472 9811 7822 8108 8156 6933 8315\n",
      " 9531 7146 8916 7350 9142 8882 7985 9546 5660 6613 7179 8573 7300 6619\n",
      " 9916 8014 9039 8628 5458 8466 8594 7282 8774 9036 7259 7309 6320 6536\n",
      " 6493 8964 9747 5585 6619 7594 5867 8409 9454 6442 8508 7434 5516 8133\n",
      " 5595 9231 6635 7246 8426 8385 8364 6106 7263 5093 5526 7173 7361 6214\n",
      " 7159 6725 8211 8196 8457 9198 5364 6697 7898 8898 7801 7472 9266 7273\n",
      " 5116 9903 9039 7710 7974 6239 9588 5331 6930 9386 5323 5298 5951 7741\n",
      " 5713 9284 5224 6103 9507 8725 9173 6216 5930 8891 6256 6700 8322 6014\n",
      " 9584 9183 9991 6800 9525 6465 6202 9657 8961 5462 7935 8062 9792 5872\n",
      " 6330 7099 8296 9946 7457 6988 7312 9030 6814 8877 5116 8575 5654 7510\n",
      " 8326 5366 7432 7065 5240 7097 8087 7364 8631 9987 8825 9395 8312 7994\n",
      " 9161 6880 8388 9196 7404 5641 6215 7668 9676 7254 7184 9719 9750 8986\n",
      " 8978 6763 6474 9807 8561 5919 7670 8618 8672 7177 7228 8713 6889 8255\n",
      " 5754 5947 8407 9814 9699 6965 5651 6253 8904 5950 8710 9972 6363 6442\n",
      " 6318 9729 8044 5905 9189 8601 5148 5455 9138 8650 8780 6317 6332 6371\n",
      " 5316 9870 5033 9854 5787 6944 9194 6539 5769 7841 6181 6260 9313 5973\n",
      " 7687 5082 8272 5194 6865 6010 6799 6839 8857 8187 7496 6538 6060 5139\n",
      " 5550 5445 8647 5089 9941 6853 8830 7385 7672 6653 5425 6319 9799 6189\n",
      " 9931 6416 5824 9834 8371 9544 9463 8785 5475 7969 9188 7312 6186 8930\n",
      " 6912 9260 7264 7008 6499 5350 5493 6434 5194 5866 6660 9480 8036 9788\n",
      " 5072 8665 7526 9584 7667 5708 6098 8253 5331 5657 9515 9698 7271 8727\n",
      " 6444 9367 6586 6725 9660 9963 5671 6435 9565 6047 5814 7434 6316 8457\n",
      " 6636 5711 7005 5431 7915 8842 8617 7563 8558 7382 7282 8039 7432 6644\n",
      " 8163 9217 8638 7638 5682 8689 7640 6012 9409 7798 5070 5520 5689 7742\n",
      " 7464 6626 9870 9976 6185 8629 9710 8206 9404 8616 5701 9391 5692 9985\n",
      " 8224 5982 7023 8025 9336 7383 6994 6383 6726 8659 7854 8000 7840 7844\n",
      " 5651 9104 5635 6941 9414 8051 8677 9847 9619 9465 5490 7724 9979 9868\n",
      " 7789 7028 6747 6624 7630 7402 9711 9154]\n"
     ]
    }
   ],
   "source": [
    "# Task 5\n",
    "scholarship=np.random.randint(5000,10001,400)\n",
    "print('The scholarship amount list:\\n',scholarship.T)"
   ]
  },
  {
   "cell_type": "code",
   "execution_count": 37,
   "id": "82bdf9d6",
   "metadata": {},
   "outputs": [
    {
     "data": {
      "text/plain": [
       "88"
      ]
     },
     "execution_count": 37,
     "metadata": {},
     "output_type": "execute_result"
    }
   ],
   "source": [
    "sc_ind=np.where(scholarship>9000)\n",
    "np.count_nonzero(sc_ind)"
   ]
  },
  {
   "cell_type": "code",
   "execution_count": 41,
   "id": "6a640466",
   "metadata": {},
   "outputs": [
    {
     "name": "stdout",
     "output_type": "stream",
     "text": [
      "[[1.000e+00 3.370e+02 1.180e+02 ... 5.671e+03 5.671e+03 7.336e+03]\n",
      " [2.000e+00 3.240e+02 1.070e+02 ... 9.009e+03 9.009e+03 5.142e+03]\n",
      " [3.000e+00 3.160e+02 1.040e+02 ... 8.884e+03 8.884e+03 5.222e+03]\n",
      " ...\n",
      " [3.980e+02 3.300e+02 1.160e+02 ... 7.402e+03 7.402e+03 8.020e+03]\n",
      " [3.990e+02 3.120e+02 1.030e+02 ... 9.711e+03 9.711e+03 7.810e+03]\n",
      " [4.000e+02 3.330e+02 1.170e+02 ... 9.154e+03 9.154e+03 9.318e+03]]\n",
      "\n",
      "The updated Admission list :\n",
      " [[1.000e+00 3.370e+02 1.180e+02 ... 5.671e+03 5.671e+03 7.336e+03]\n",
      " [2.000e+00 3.240e+02 1.070e+02 ... 9.009e+03 9.009e+03 5.142e+03]\n",
      " [3.000e+00 3.160e+02 1.040e+02 ... 8.884e+03 8.884e+03 5.222e+03]\n",
      " ...\n",
      " [3.980e+02 3.300e+02 1.160e+02 ... 7.402e+03 7.402e+03 8.020e+03]\n",
      " [3.990e+02 3.120e+02 1.030e+02 ... 9.711e+03 9.711e+03 7.810e+03]\n",
      " [4.000e+02 3.330e+02 1.170e+02 ... 9.154e+03 9.154e+03 9.318e+03]]\n",
      "\n",
      "The number of students with scholarship more then $9000:  88\n"
     ]
    }
   ],
   "source": [
    "print(adm)\n",
    "adm=np.insert(adm,9,[scholarship],axis=1)\n",
    "print('\\nThe updated Admission list :\\n',adm)\n",
    "sch_ind=np.where(adm[:,9]>9000)\n",
    "print('\\nThe number of students with scholarship more then $9000: ',np.count_nonzero(sch_ind))"
   ]
  },
  {
   "cell_type": "code",
   "execution_count": 42,
   "id": "99014873",
   "metadata": {},
   "outputs": [
    {
     "name": "stdout",
     "output_type": "stream",
     "text": [
      "The SOP and LOR scores of all student with scholarship more then $9000\n",
      "  [[[4.  4.5]\n",
      "  [4.5 3. ]\n",
      "  [3.  4. ]\n",
      "  [3.5 3. ]\n",
      "  [4.  4.5]\n",
      "  [3.5 2.5]\n",
      "  [4.  3. ]\n",
      "  [3.  2. ]\n",
      "  [5.  5. ]\n",
      "  [2.  2. ]\n",
      "  [3.  4.5]\n",
      "  [5.  5. ]\n",
      "  [2.5 2. ]\n",
      "  [4.5 4. ]\n",
      "  [1.5 3.5]\n",
      "  [3.  2. ]\n",
      "  [3.  3.5]\n",
      "  [5.  5. ]\n",
      "  [4.5 3.5]\n",
      "  [3.  3. ]\n",
      "  [4.  4. ]\n",
      "  [3.5 3.5]\n",
      "  [3.5 3. ]\n",
      "  [3.5 4.5]\n",
      "  [4.  3.5]\n",
      "  [4.  3.5]\n",
      "  [3.  3.5]\n",
      "  [4.  3. ]\n",
      "  [2.5 2. ]\n",
      "  [3.5 3. ]\n",
      "  [4.  4.5]\n",
      "  [4.  4.5]\n",
      "  [4.5 3. ]\n",
      "  [4.5 4. ]\n",
      "  [3.  3. ]\n",
      "  [3.5 3. ]\n",
      "  [4.5 4. ]\n",
      "  [2.  4. ]\n",
      "  [4.  4.5]\n",
      "  [4.5 4.5]\n",
      "  [3.  3. ]\n",
      "  [3.5 3. ]\n",
      "  [4.5 4.5]\n",
      "  [4.  4.5]\n",
      "  [2.5 3. ]\n",
      "  [3.5 4. ]\n",
      "  [5.  4. ]\n",
      "  [4.5 5. ]\n",
      "  [3.  3.5]\n",
      "  [2.5 2.5]\n",
      "  [3.5 3. ]\n",
      "  [4.  4.5]\n",
      "  [4.  4.5]\n",
      "  [4.  4. ]\n",
      "  [3.  2.5]\n",
      "  [2.  2.5]\n",
      "  [4.5 5. ]\n",
      "  [1.5 2. ]\n",
      "  [1.5 1.5]\n",
      "  [5.  4.5]\n",
      "  [4.  4.5]\n",
      "  [1.5 2. ]\n",
      "  [3.5 3. ]\n",
      "  [4.  4.5]\n",
      "  [2.5 2. ]\n",
      "  [3.5 3.5]\n",
      "  [3.5 3. ]\n",
      "  [4.5 4.5]\n",
      "  [3.5 3. ]\n",
      "  [1.5 2. ]\n",
      "  [5.  5. ]\n",
      "  [1.5 2. ]\n",
      "  [3.  3.5]\n",
      "  [3.5 2.5]\n",
      "  [3.5 4. ]\n",
      "  [2.5 2. ]\n",
      "  [4.  3.5]\n",
      "  [2.5 3. ]\n",
      "  [2.  2. ]\n",
      "  [2.5 3. ]\n",
      "  [4.5 4. ]\n",
      "  [5.  5. ]\n",
      "  [2.5 3.5]\n",
      "  [2.  3.5]\n",
      "  [2.  2.5]\n",
      "  [2.  3. ]\n",
      "  [3.5 4. ]\n",
      "  [5.  4. ]]]\n"
     ]
    }
   ],
   "source": [
    "# Task 6\n",
    "sch_ind=np.where(adm[:,9]>9000)\n",
    "print('The SOP and LOR scores of all student with scholarship more then $9000\\n ',adm[sch_ind,4:6])"
   ]
  },
  {
   "cell_type": "code",
   "execution_count": 60,
   "id": "a8a6eaaa",
   "metadata": {},
   "outputs": [
    {
     "name": "stdout",
     "output_type": "stream",
     "text": [
      "The number of student with GRE greater then 315 TOEFL greater then 115 with reseach expereince: 41\n",
      "\n",
      "The serial number of the sudent :\n",
      " [[  1.  23.  24.  25.  26.  33.  53.  71.  82.  98.  99. 108. 109. 121.\n",
      "  122. 130. 139. 142. 144. 149. 152. 172. 177. 188. 194. 203. 204. 213.\n",
      "  214. 215. 216. 260. 286. 287. 326. 338. 362. 373. 386. 398. 400.]]\n",
      "\n",
      "The updated scholarship data:\n",
      " [[[   1. 1000.]\n",
      "  [  23. 1000.]\n",
      "  [  24. 1000.]\n",
      "  [  25. 1000.]\n",
      "  [  26. 1000.]\n",
      "  [  33. 1000.]\n",
      "  [  53. 1000.]\n",
      "  [  71. 1000.]\n",
      "  [  82. 1000.]\n",
      "  [  98. 1000.]\n",
      "  [  99. 1000.]\n",
      "  [ 108. 1000.]\n",
      "  [ 109. 1000.]\n",
      "  [ 121. 1000.]\n",
      "  [ 122. 1000.]\n",
      "  [ 130. 1000.]\n",
      "  [ 139. 1000.]\n",
      "  [ 142. 1000.]\n",
      "  [ 144. 1000.]\n",
      "  [ 149. 1000.]\n",
      "  [ 152. 1000.]\n",
      "  [ 172. 1000.]\n",
      "  [ 177. 1000.]\n",
      "  [ 188. 1000.]\n",
      "  [ 194. 1000.]\n",
      "  [ 203. 1000.]\n",
      "  [ 204. 1000.]\n",
      "  [ 213. 1000.]\n",
      "  [ 214. 1000.]\n",
      "  [ 215. 1000.]\n",
      "  [ 216. 1000.]\n",
      "  [ 260. 1000.]\n",
      "  [ 286. 1000.]\n",
      "  [ 287. 1000.]\n",
      "  [ 326. 1000.]\n",
      "  [ 338. 1000.]\n",
      "  [ 362. 1000.]\n",
      "  [ 373. 1000.]\n",
      "  [ 386. 1000.]\n",
      "  [ 398. 1000.]\n",
      "  [ 400. 1000.]]]\n"
     ]
    }
   ],
   "source": [
    "# Task 7\n",
    "adm_ind=np.where((adm[:,1]>315)&(adm[:,2]>115)&(adm[:,7]==1))\n",
    "print('The number of student with GRE greater then 315 TOEFL greater then 115 with reseach expereince:',np.size(adm_ind))\n",
    "print ('\\nThe serial number of the sudent :\\n',adm[adm_ind,0])\n",
    "adm[adm_ind,9]=1000\n",
    "print('\\nThe updated scholarship data:\\n',adm[adm_ind,0:10:9])"
   ]
  },
  {
   "cell_type": "markdown",
   "id": "96e128b6",
   "metadata": {},
   "source": [
    "ADDITIONAL QUESTIONS"
   ]
  },
  {
   "cell_type": "code",
   "execution_count": 62,
   "id": "91700361",
   "metadata": {},
   "outputs": [
    {
     "name": "stdout",
     "output_type": "stream",
     "text": [
      "The number of student with CGPA scores from 8.0 to 8.5 : 122\n"
     ]
    }
   ],
   "source": [
    "# Task 8\n",
    "cgpa_ind=np.where((adm[:,6]>=8.0)&(adm[:,6]<=8.5))\n",
    "print('The number of student with CGPA scores from 8.0 to 8.5 :',np.count_nonzero(cgpa_ind))"
   ]
  },
  {
   "cell_type": "code",
   "execution_count": 65,
   "id": "570758e1",
   "metadata": {},
   "outputs": [
    {
     "name": "stdout",
     "output_type": "stream",
     "text": [
      "The average SOP score of first 50 applicants: 3.5294117647058822\n",
      "The average LOP score of first 50 applicants: 3.450980392156863\n",
      "Yes, SOP is more then LOP by : 2.2727272727272645 %\n"
     ]
    }
   ],
   "source": [
    "# Task 9\n",
    "avg_sop=np.mean(adm[0:51,4])\n",
    "print('The average SOP score of first 50 applicants:',avg_sop)\n",
    "avg_lop=np.mean(adm[0:51,5])\n",
    "print('The average LOP score of first 50 applicants:',avg_lop)\n",
    "incease=((avg_sop-avg_lop)/avg_lop)*100\n",
    "if avg_sop>avg_lop:\n",
    "    print('Yes, SOP is more then LOP by :',incease,'%')\n",
    "else:\n",
    "    print('No')"
   ]
  },
  {
   "cell_type": "code",
   "execution_count": 96,
   "id": "08dbb8b6",
   "metadata": {},
   "outputs": [
    {
     "name": "stdout",
     "output_type": "stream",
     "text": [
      "Quantile\n",
      " ['Q0', 'Q1', 'Q2', 'Q3', 'Q4'] \n",
      " [1000. 6003. 7331. 8680. 9991.]\n",
      "Inner Quantile range =  2677.0\n",
      "\n",
      "Lower Fence =  1987.5\n",
      "\n",
      "Upper Fence =  12695.5\n",
      "\n",
      "Maximum =  9991.0 \n",
      "Minimum 1000.0\n",
      "\n",
      "Mean =  6936.2575\n",
      "\n",
      "Range =  8991.0\n",
      "\n",
      "Median =  7331.0\n",
      "\n",
      "Standard Deviation =  2417.4462219858688\n",
      "Number of outliers :  41\n",
      "Outliers:\n",
      " [[1000. 1000. 1000. 1000. 1000. 1000. 1000. 1000. 1000. 1000. 1000. 1000.\n",
      "  1000. 1000. 1000. 1000. 1000. 1000. 1000. 1000. 1000. 1000. 1000. 1000.\n",
      "  1000. 1000. 1000. 1000. 1000. 1000. 1000. 1000. 1000. 1000. 1000. 1000.\n",
      "  1000. 1000. 1000. 1000. 1000.]]\n"
     ]
    }
   ],
   "source": [
    "# Task 10\n",
    "quant1=['Q0','Q1','Q2','Q3','Q4']\n",
    "quant=np.quantile(adm[:,9],(0,0.25,0.5,0.75,1))\n",
    "print('Quantile\\n',quant1,'\\n',quant)\n",
    "inq_r=(np.quantile(adm[:,9],0.75))- (np.quantile(adm[:,9],0.25))\n",
    "print('Inner Quantile range = ',inq_r)\n",
    "Q2=np.quantile(adm[:,9],0.25)\n",
    "Q3=np.quantile(adm[:,9],0.75)\n",
    "dev=inq_r*1.5\n",
    "print('\\nLower Fence = ',Q2-dev)\n",
    "print('\\nUpper Fence = ',Q3+dev)\n",
    "Max=np.max(adm[:,9])\n",
    "Min=np.min(adm[:,9])\n",
    "print('\\nMaximum = ',Max,'\\nMinimum',Min)\n",
    "Mean=np.mean(adm[:,9])\n",
    "print('\\nMean = ',Mean)\n",
    "Range=Max-Min\n",
    "print('\\nRange = ',Range)\n",
    "Median=np.median(adm[:,9])\n",
    "print('\\nMedian = ',Median)\n",
    "standard_deviation=np.std(adm[:,9])\n",
    "print('\\nStandard Deviation = ',standard_deviation)\n",
    "ind=np.where((adm[:,9]>12695.5)|(adm[:,9]<1987.5))\n",
    "print('Number of outliers : ',np.size(ind))\n",
    "print('Outliers:\\n',adm[ind,9])"
   ]
  },
  {
   "cell_type": "code",
   "execution_count": 97,
   "id": "b008b0ac",
   "metadata": {},
   "outputs": [
    {
     "name": "stdout",
     "output_type": "stream",
     "text": [
      "GRE score for have at least 95% cahnces of admission:\n",
      " [[334. 336. 336. 340. 339. 340. 339. 340. 334. 338. 333. 336. 340. 335.\n",
      "  333.]]\n",
      "TOEFL score for have at least 95% cahnces of admission:\n",
      " [[119. 119. 112. 120. 114. 120. 116. 120. 120. 120. 119. 119. 113. 117.\n",
      "  117.]]\n",
      "CGPA for have at least 95% cahnces of admission:\n",
      " [[9.7  9.8  9.76 9.5  9.76 9.92 9.8  9.91 9.87 9.66 9.78 9.62 9.74 9.82\n",
      "  9.66]]\n"
     ]
    }
   ],
   "source": [
    "# Task 11\n",
    "ch_ind=np.where(adm[:,8]>=0.95)\n",
    "print('GRE score for have at least 95% cahnces of admission:\\n',adm[ch_ind,1])\n",
    "print('TOEFL score for have at least 95% cahnces of admission:\\n',adm[ch_ind,2])\n",
    "print('CGPA for have at least 95% cahnces of admission:\\n',adm[ch_ind,6])"
   ]
  }
 ],
 "metadata": {
  "kernelspec": {
   "display_name": "Python 3 (ipykernel)",
   "language": "python",
   "name": "python3"
  },
  "language_info": {
   "codemirror_mode": {
    "name": "ipython",
    "version": 3
   },
   "file_extension": ".py",
   "mimetype": "text/x-python",
   "name": "python",
   "nbconvert_exporter": "python",
   "pygments_lexer": "ipython3",
   "version": "3.9.7"
  }
 },
 "nbformat": 4,
 "nbformat_minor": 5
}
